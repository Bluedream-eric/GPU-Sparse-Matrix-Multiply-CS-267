{
 "cells": [
  {
   "cell_type": "code",
   "execution_count": 57,
   "metadata": {
    "collapsed": false
   },
   "outputs": [],
   "source": [
    "import numpy as np\n",
    "import matplotlib as mpl\n",
    "import matplotlib.pyplot as plt\n",
    "mpl.rcParams['figure.figsize'] = 12, 15"
   ]
  },
  {
   "cell_type": "code",
   "execution_count": 58,
   "metadata": {
    "collapsed": false
   },
   "outputs": [],
   "source": [
    "x = np.arange(4, 14)\n",
    "x_p=np.power(2, x)"
   ]
  },
  {
   "cell_type": "code",
   "execution_count": 59,
   "metadata": {
    "collapsed": false
   },
   "outputs": [
    {
     "data": {
      "text/plain": [
       "<matplotlib.text.Text at 0x175c5588>"
      ]
     },
     "execution_count": 59,
     "metadata": {},
     "output_type": "execute_result"
    }
   ],
   "source": [
    "#p=0.01\n",
    "cpu_csr_csr_y = [0.00018358230590820312, 0.00012135505676269531, 0.00013756752014160156, 0.0001494884490966797, 0.00016832351684570312, 0.0003001689910888672, 0.0011458396911621094, 0.010753631591796875, 0.09412574768066406, 0.862370491027832]\n",
    "log_cpu_csr_csy_y = np.log10(cpu_csr_csr_y)\n",
    "\n",
    "cpu_csr_dense_y = [2.8848648071289062e-05, 1.6689300537109375e-05, 2.3365020751953125e-05, 5.078315734863281e-05, 0.00019359588623046875, 0.0010609626770019531, 0.0068132877349853516, 0.05494117736816406, 0.5152790546417236, 4.338305473327637]\n",
    "log_cpu_csr_dense_y = np.log10(cpu_csr_dense_y)\n",
    "\n",
    "cpu_spD_dense_y = [4.482269287109375e-05, 1.4781951904296875e-05, 5.650520324707031e-05, 0.00011157989501953125, 0.0006697177886962891, \n",
    "                   0.004204750061035156, 0.030823707580566406, 0.25116610527038574, 1.9149460792541504, 15.003503322601318]\n",
    "log_cpu_spD_dense_y = np.log10(cpu_spD_dense_y)\n",
    "\n",
    "cpu_spD_spD_y = [0.11377143859863281, 1.3113021850585938e-05, 0.00018644332885742188, 0.00017642974853515625, 0.0017795562744140625, 0.0054090023040771484, \n",
    "                 0.034515380859375, 0.7652676105499268, 1.9170539379119873, 15.035872220993042]\n",
    "log_cpu_spD_spD_y = np.log10(cpu_spD_spD_y)\n",
    "\n",
    "cublas_spD_spD_y = [0.6222736835479736, 5.4836273193359375e-05, 5.4836273193359375e-05, 5.507469177246094e-05, 0.00019311904907226562, 0.00033283233642578125, \n",
    "                    0.0011298656463623047, 0.004297971725463867, 0.017014741897583008, 0.053984642028808594]\n",
    "log_cublas_spD_spD_y = np.log10(cublas_spD_spD_y)\n",
    "\n",
    "cublas_spD_dense_y = [6.151199340820312e-05, 4.0531158447265625e-05, 3.814697265625e-05, 3.910064697265625e-05, 3.814697265625e-05, 3.933906555175781e-05, \n",
    "                      5.0067901611328125e-05, 7.462501525878906e-05, 7.843971252441406e-05, 8.225440979003906e-05]\n",
    "log_cublas_spD_dense_y = np.log10(cublas_spD_dense_y)\n",
    "\n",
    "cusparse_csr_dense_y = [0.0008106231689453125, 0.0006754398345947266, 0.0006651878356933594, 0.0007281303405761719, 0.0010180473327636719, \n",
    "                        0.0030815601348876953, 0.006908416748046875, 0.035944461822509766,  0.16334152221679688, 0.7505805492401123]\n",
    "log_cusparse_csr_dense_y = np.log10(cusparse_csr_dense_y)\n",
    "\n",
    "cusp_csr_csr_y = [1.99999999495049e-06, 9.99999997475243e-07, 1.99999999495049e-06, 9.99999997475243e-07, 9.99999997475243e-07, 9.99999997475243e-07, 9.99999997475243e-07, 9.99999997475243e-07, 9.99999997475243e-07, 9.99999997475243e-07]\n",
    "log_cusp_csr_csr_y = np.log10(cusp_csr_csr_y)\n",
    "\n",
    "cusp_csr_dense_y = [0.000218999994103797, 1.20000004244503e-05, 1.20000004244503e-05, 1.29999998534913e-05, 1.29999998534913e-05, 1.29999998534913e-05, 1.20000004244503e-05, 1.40000001920271e-05, 1.70000002981396e-05, 1.59999999596039e-05]\n",
    "log_cusp_csr_dense_y = np.log10(cusp_csr_dense_y)\n",
    "\n",
    "ax = plt.subplot(3, 3, 1)\n",
    "ax.set_title(\"N vs. log(time) at p=0.01\")\n",
    "ax.plot(x, log_cpu_csr_csy_y, '.r-', label=\"CPU CSR * CSR\")\n",
    "ax.plot(x, log_cpu_csr_dense_y, '.b-', label=\"CPU CSR * Dense\")\n",
    "ax.plot(x, log_cpu_spD_dense_y, '.y-', label=\"CPU sparseD * Dense\")\n",
    "ax.plot(x, log_cpu_spD_spD_y, '.g-', label='CPU sparseD * sparseD')\n",
    "ax.plot(x, log_cublas_spD_spD_y, '.m-', label=\"cuBLAS sparseD * sparseD\")\n",
    "ax.plot(x, log_cublas_spD_dense_y, '.c-', label=\"cuBLAS sparseD * Dense\")\n",
    "ax.plot(x, log_cusparse_csr_dense_y, '.k-', label=\"cuSPARSE CSR * Dense\")\n",
    "ax.plot(x, log_cusp_csr_csr_y, '.C1-', label=\"CUSP CSR * CSR\")\n",
    "ax.plot(x, log_cusp_csr_dense_y, '.C5-', label=\"CUSP CSR * Dense\")\n",
    "ax.set_xlabel(\"Power of 2 (N)\")\n",
    "ax.set_ylabel(\"log(time) in sec\")"
   ]
  },
  {
   "cell_type": "code",
   "execution_count": 60,
   "metadata": {
    "collapsed": false
   },
   "outputs": [
    {
     "data": {
      "text/plain": [
       "<matplotlib.text.Text at 0x176cc6d8>"
      ]
     },
     "execution_count": 60,
     "metadata": {},
     "output_type": "execute_result"
    }
   ],
   "source": [
    "#p=0.02\n",
    "cpu_csr_csr_y = [0.00012230873107910156, 0.00012135505676269531, 0.00015234947204589844, 0.00016355514526367188, 0.0002219676971435547, 0.0006852149963378906, 0.004667758941650391, 0.05178332328796387, 0.37616872787475586, 2.263578176498413]\n",
    "log_cpu_csr_csy_y = np.log10(cpu_csr_csr_y)\n",
    "\n",
    "cpu_csr_dense_y = [1.5735626220703125e-05, 1.5974044799804688e-05, 2.0503997802734375e-05, 5.1975250244140625e-05, 0.000232696533203125, 0.0014188289642333984, 0.010337114334106445, 0.0860450267791748, 0.9926795959472656, 8.394624948501587]\n",
    "log_cpu_csr_dense_y = np.log10(cpu_csr_dense_y)\n",
    "\n",
    "cpu_spD_dense_y = [1.049041748046875e-05, 1.1205673217773438e-05, 2.8133392333984375e-05, 0.00010609626770019531, 0.0006017684936523438, 0.003960371017456055, 0.03171038627624512, 0.25114989280700684, 1.9142045974731445, 15.005228042602539]\n",
    "log_cpu_spD_dense_y = np.log10(cpu_spD_dense_y)\n",
    "\n",
    "cpu_spD_spD_y = [1.33514404296875e-05, 1.1920928955078125e-05, 3.170967102050781e-05, 9.822845458984375e-05, 0.0005817413330078125, 0.00496220588684082, 0.0331876277923584, 0.251737117767334, 1.9147562980651855, 15.011284112930298]\n",
    "log_cpu_spD_spD_y = np.log10(cpu_spD_spD_y)\n",
    "\n",
    "cublas_spD_spD_y = [4.38690185546875e-05, 3.910064697265625e-05, 4.029273986816406e-05, 4.00543212890625e-05, 4.220008850097656e-05, 4.4345855712890625e-05, 8.320808410644531e-05, 0.00010013580322265625, 8.153915405273438e-05, 7.987022399902344e-05]\n",
    "log_cublas_spD_spD_y = np.log10(cublas_spD_spD_y)\n",
    "\n",
    "cublas_spD_dense_y = [3.6716461181640625e-05, 3.695487976074219e-05, 3.838539123535156e-05, 4.0531158447265625e-05, 3.981590270996094e-05, 4.2438507080078125e-05, 5.6743621826171875e-05, 7.748603820800781e-05, 7.724761962890625e-05, 7.796287536621094e-05]\n",
    "log_cublas_spD_dense_y = np.log10(cublas_spD_dense_y)\n",
    "\n",
    "cusparse_csr_dense_y = [0.0004794597625732422, 0.000812530517578125, 0.0006818771362304688, 0.0005714893341064453, 0.001697540283203125, 0.001974821090698242, 0.006709098815917969, 0.04490351676940918, 0.19605088233947754, 1.1267151832580566]\n",
    "log_cusparse_csr_dense_y = np.log10(cusparse_csr_dense_y)\n",
    "\n",
    "cusp_csr_csr_y = [9.99999997475243e-07, 9.99999997475243e-07, 9.99999997475243e-07, 1.99999999495049e-06, 9.99999997475243e-07, 1.99999999495049e-06, 9.99999997475243e-07, 9.99999997475243e-07, 1.99999999495049e-06, 1.99999999495049e-06]\n",
    "log_cusp_csr_csr_y = np.log10(cusp_csr_csr_y)\n",
    "\n",
    "cusp_csr_dense_y = [1.20000004244503e-05, 1.20000004244503e-05, 1.20000004244503e-05, 1.20000004244503e-05, 1.20000004244503e-05, 1.20000004244503e-05, 1.29999998534913e-05, 1.29999998534913e-05, 1.59999999596039e-05, 1.70000002981396e-05]\n",
    "log_cusp_csr_dense_y = np.log10(cusp_csr_dense_y)\n",
    "\n",
    "ax = plt.subplot(3, 3, 2)\n",
    "ax.set_title(\"N vs. log(time) at p=0.02\")\n",
    "ax.plot(x, log_cpu_csr_csy_y, '.r-', label=\"CPU CSR * CSR\")\n",
    "ax.plot(x, log_cpu_csr_dense_y, '.b-', label=\"CPU CSR * Dense\")\n",
    "ax.plot(x, log_cpu_spD_dense_y, '.y-', label=\"CPU sparseD * Dense\")\n",
    "ax.plot(x, log_cpu_spD_spD_y, '.g-', label='CPU sparseD * sparseD')\n",
    "ax.plot(x, log_cublas_spD_spD_y, '.m-', label=\"cuBLAS sparseD * sparseD\")\n",
    "ax.plot(x, log_cublas_spD_dense_y, '.c-', label=\"cuBLAS sparseD * Dense\")\n",
    "ax.plot(x, log_cusparse_csr_dense_y, '.k-', label=\"cuSPARSE CSR * Dense\")\n",
    "ax.plot(x, log_cusp_csr_csr_y, '.C1-', label=\"CUSP CSR * CSR\")\n",
    "ax.plot(x, log_cusp_csr_dense_y, '.C5-', label=\"CUSP CSR * Dense\")\n",
    "ax.set_xlabel(\"Power of 2 (N)\")\n",
    "ax.set_ylabel(\"log(time) in sec\")"
   ]
  },
  {
   "cell_type": "code",
   "execution_count": 61,
   "metadata": {
    "collapsed": false
   },
   "outputs": [
    {
     "data": {
      "text/plain": [
       "<matplotlib.text.Text at 0x17b94240>"
      ]
     },
     "execution_count": 61,
     "metadata": {},
     "output_type": "execute_result"
    }
   ],
   "source": [
    "#p=0.05\n",
    "cpu_csr_csr_y = [0.00011920928955078125, 0.0001246929168701172, 0.00014162063598632812, 0.0002300739288330078, 0.00067138671875, 0.004368782043457031, 0.029424190521240234, 0.14832663536071777, 0.8579308986663818, 6.324174642562866]\n",
    "log_cpu_csr_csy_y = np.log10(cpu_csr_csr_y)\n",
    "\n",
    "cpu_csr_dense_y = [1.4543533325195312e-05, 1.621246337890625e-05, 2.6464462280273438e-05, 8.845329284667969e-05, 0.0005176067352294922, 0.0038001537322998047, 0.024913549423217773, 0.1981639862060547, 2.5304808616638184, 21.260045528411865]\n",
    "log_cpu_csr_dense_y = np.log10(cpu_csr_dense_y)\n",
    "\n",
    "cpu_spD_dense_y = [8.821487426757812e-06, 1.1920928955078125e-05, 3.361701965332031e-05, 0.0001211166381835937, 0.0005888938903808594, 0.003975868225097656, 0.029877662658691406, 0.25122523307800293, 1.9146249294281006, 15.007434606552124]\n",
    "log_cpu_spD_dense_y = np.log10(cpu_spD_dense_y)\n",
    "\n",
    "cpu_spD_spD_y = [9.5367431640625e-06, 1.1920928955078125e-05, 3.266334533691406e-05, 0.00014519691467285156, 0.0007519721984863281, 0.0040051937103271484, 0.031891584396362305, 0.25147533416748047, 1.9161090850830078, 15.035358428955078]\n",
    "log_cpu_spD_spD_y = np.log10(cpu_spD_spD_y)\n",
    "\n",
    "cublas_spD_spD_y = [3.814697265625e-05, 3.838539123535156e-05, 3.933906555175781e-05, 3.9577484130859375e-05, 4.2438507080078125e-05, 4.076957702636719e-05, 6.4849853515625e-05, 7.62939453125e-05, 7.963180541992188e-05, 7.62939453125e-05]\n",
    "log_cublas_spD_spD_y = np.log10(cublas_spD_spD_y)\n",
    "\n",
    "cublas_spD_dense_y = [3.719329833984375e-05, 3.790855407714844e-05, 3.743171691894531e-05, 3.981590270996094e-05, 3.981590270996094e-05, 4.315376281738281e-05, 6.389617919921875e-05, 7.843971252441406e-05, 7.700920104980469e-05, 7.796287536621094e-05]\n",
    "log_cublas_spD_dense_y = np.log10(cublas_spD_dense_y)\n",
    "\n",
    "cusparse_csr_dense_y = [0.0007672309875488281, 0.0006661415100097656, 0.00049591064453125, 0.0006906986236572266, 0.0009584426879882812, 0.002355813980102539, 0.009573221206665039, 0.07018089294433594, 0.3169789314270019, 2.2076196670532227]\n",
    "log_cusparse_csr_dense_y = np.log10(cusparse_csr_dense_y)\n",
    "\n",
    "cusp_csr_csr_y = [9.99999997475243e-07, 9.99999997475243e-07, 9.99999997475243e-07, 1.99999999495049e-06, 1.99999999495049e-06, 9.99999997475243e-07, 1.99999999495049e-06, 1.99999999495049e-06, 1.99999999495049e-06, 1.99999999495049e-06]\n",
    "log_cusp_csr_csr_y = np.log10(cusp_csr_csr_y)\n",
    "\n",
    "cusp_csr_dense_y = [1.20000004244503e-05, 1.20000004244503e-05, 1.29999998534913e-05, 1.20000004244503e-05, 1.20000004244503e-05, 1.29999998534913e-05, 1.29999998534913e-05, 1.49999996210681e-05, 1.59999999596039e-05, 1.70000002981396e-05]\n",
    "log_cusp_csr_dense_y = np.log10(cusp_csr_dense_y)\n",
    "\n",
    "ax = plt.subplot(3, 3, 3)\n",
    "ax.set_title(\"N vs. log(time) at p=0.05\")\n",
    "ax.plot(x, log_cpu_csr_csy_y, '.r-', label=\"CPU CSR * CSR\")\n",
    "ax.plot(x, log_cpu_csr_dense_y, '.b-', label=\"CPU CSR * Dense\")\n",
    "ax.plot(x, log_cpu_spD_dense_y, '.y-', label=\"CPU sparseD * Dense\")\n",
    "ax.plot(x, log_cpu_spD_spD_y, '.g-', label='CPU sparseD * sparseD')\n",
    "ax.plot(x, log_cublas_spD_spD_y, '.m-', label=\"cuBLAS sparseD * sparseD\")\n",
    "ax.plot(x, log_cublas_spD_dense_y, '.c-', label=\"cuBLAS sparseD * Dense\")\n",
    "ax.plot(x, log_cusparse_csr_dense_y, '.k-', label=\"cuSPARSE CSR * Dense\")\n",
    "ax.plot(x, log_cusp_csr_csr_y, '.C1-', label=\"CUSP CSR * CSR\")\n",
    "ax.plot(x, log_cusp_csr_dense_y, '.C5-', label=\"CUSP CSR * Dense\")\n",
    "ax.set_xlabel(\"Power of 2 (N)\")\n",
    "ax.set_ylabel(\"log(time) in sec\")"
   ]
  },
  {
   "cell_type": "code",
   "execution_count": 62,
   "metadata": {
    "collapsed": false
   },
   "outputs": [
    {
     "data": {
      "text/plain": [
       "<matplotlib.text.Text at 0x17cb6d30>"
      ]
     },
     "execution_count": 62,
     "metadata": {},
     "output_type": "execute_result"
    }
   ],
   "source": [
    "#p=0.1\n",
    "cpu_csr_csr_y = [0.0001220703125, 0.00013566017150878906, 0.00017523765563964844, 0.000431060791015625, 0.0018639564514160156, 0.009319067001342773, 0.05009198188781738, 0.2980008125305176, 2.27825927734375, 19.296984434127808]\n",
    "log_cpu_csr_csy_y = np.log10(cpu_csr_csr_y)\n",
    "\n",
    "cpu_csr_dense_y = [1.4543533325195312e-05, 1.621246337890625e-05, 2.6464462280273438e-05, 8.845329284667969e-05, 0.0005176067352294922, 0.0038001537322998047, 0.024913549423217773, 0.1981639862060547, 2.5304808616638184, 21.260045528411865]\n",
    "log_cpu_csr_dense_y = np.log10(cpu_csr_dense_y)\n",
    "\n",
    "cpu_spD_dense_y = [9.059906005859375e-06, 1.1444091796875e-05, 2.7894973754882812e-05, 0.00011134147644042969, 0.0005915164947509766, 0.0042493343353271484, 0.031980276107788086, 0.25113797187805176, 1.9144291877746582, 15.014004230499268]\n",
    "log_cpu_spD_dense_y = np.log10(cpu_spD_dense_y)\n",
    "\n",
    "cpu_spD_spD_y = [9.775161743164062e-06, 1.239776611328125e-05, 4.2438507080078125e-05, 0.0001068115234375, 0.0008196830749511719, 0.00474238395690918, 0.031458139419555664, 0.25150108337402344, 1.9163084030151367, 15.017842769622803]\n",
    "log_cpu_spD_spD_y = np.log10(cpu_spD_spD_y)\n",
    "\n",
    "cublas_spD_spD_y = [3.8623809814453125e-05, 3.8623809814453125e-05, 4.00543212890625e-05, 5.8650970458984375e-05, 4.363059997558594e-05, 4.267692565917969e-05, 6.437301635742188e-05, 7.724761962890625e-05, 7.843971252441406e-05, 7.987022399902344e-05]\n",
    "log_cublas_spD_spD_y = np.log10(cublas_spD_spD_y)\n",
    "\n",
    "cublas_spD_dense_y = [3.695487976074219e-05, 3.7670135498046875e-05, 3.838539123535156e-05, 3.8623809814453125e-05, 4.029273986816406e-05, 4.38690185546875e-05, 6.771087646484375e-05, 7.486343383789062e-05, 7.772445678710938e-05, 7.653236389160156e-05]\n",
    "log_cublas_spD_dense_y = np.log10(cublas_spD_dense_y)\n",
    "\n",
    "cusparse_csr_dense_y = [0.0006396770477294922, 0.0004887580871582031, 0.0006852149963378906, 0.0005755424499511719, 0.0010411739349365234, 0.0028073787689208984, 0.01451253890991211, 0.12348389625549316, 0.5257678031921387, 3.8256494998931885]\n",
    "log_cusparse_csr_dense_y = np.log10(cusparse_csr_dense_y)\n",
    "\n",
    "cusp_csr_csr_y = [1.99999999495049e-06, 9.99999997475243e-07,9.99999997475243e-07, 1.99999999495049e-06, 1.99999999495049e-06, 9.99999997475243e-07, 1.99999999495049e-06, 9.99999997475243e-07, 1.99999999495049e-06, 1.99999999495049e-06]\n",
    "log_cusp_csr_csr_y = np.log10(cusp_csr_csr_y)\n",
    "\n",
    "cusp_csr_dense_y = [1.20000004244503e-05, 1.20000004244503e-05, 1.20000004244503e-05, 1.29999998534913e-05, 1.29999998534913e-05, 1.29999998534913e-05, 1.29999998534913e-05, 1.59999999596039e-05, 1.59999999596039e-05, 1.59999999596039e-05]\n",
    "log_cusp_csr_dense_y = np.log10(cusp_csr_dense_y)\n",
    "\n",
    "ax = plt.subplot(3, 3, 4)\n",
    "ax.set_title(\"N vs. log(time) at p=0.1\")\n",
    "ax.plot(x, log_cpu_csr_csy_y, '.r-', label=\"CPU CSR * CSR\")\n",
    "ax.plot(x, log_cpu_csr_dense_y, '.b-', label=\"CPU CSR * Dense\")\n",
    "ax.plot(x, log_cpu_spD_dense_y, '.y-', label=\"CPU sparseD * Dense\")\n",
    "ax.plot(x, log_cpu_spD_spD_y, '.g-', label='CPU sparseD * sparseD')\n",
    "ax.plot(x, log_cublas_spD_spD_y, '.m-', label=\"cuBLAS sparseD * sparseD\")\n",
    "ax.plot(x, log_cublas_spD_dense_y, '.c-', label=\"cuBLAS sparseD * Dense\")\n",
    "ax.plot(x, log_cusparse_csr_dense_y, '.k-', label=\"cuSPARSE CSR * Dense\")\n",
    "ax.plot(x, log_cusp_csr_csr_y, '.C1-', label=\"CUSP CSR * CSR\")\n",
    "ax.plot(x, log_cusp_csr_dense_y, '.C5-', label=\"CUSP CSR * Dense\")\n",
    "ax.set_xlabel(\"Power of 2 (N)\")\n",
    "ax.set_ylabel(\"log(time) in sec\")"
   ]
  },
  {
   "cell_type": "code",
   "execution_count": 63,
   "metadata": {
    "collapsed": false
   },
   "outputs": [
    {
     "data": {
      "text/plain": [
       "<matplotlib.text.Text at 0x17585550>"
      ]
     },
     "execution_count": 63,
     "metadata": {},
     "output_type": "execute_result"
    }
   ],
   "source": [
    "#p=0.25\n",
    "cpu_csr_csr_y = [0.00012946128845214844, 0.0001628398895263672, 0.00027680397033691406, 0.00083160400390625, 0.003956794738769531, 0.025745153427124023, 0.17308878898620605, 1.295304775238037, 10.874768733978271, 93.70827627182007]\n",
    "log_cpu_csr_csy_y = np.log10(cpu_csr_csr_y)\n",
    "\n",
    "cpu_csr_dense_y = [1.52587890625e-05, 2.1696090698242188e-05, 6.008148193359375e-05, 0.00033164024353027344, 0.0021600723266601562, 0.015597820281982422, 0.11979031562805176, 0.9579286575317383, 13.215934991836548, 106.16548490524292]\n",
    "log_cpu_csr_dense_y = np.log10(cpu_csr_dense_y)\n",
    "\n",
    "cpu_spD_dense_y = [9.059906005859375e-06, 1.239776611328125e-05, 4.506111145019531e-05, 0.00012230873107910156, 0.0005748271942138672, 0.004082679748535156, 0.03043532371520996, 0.25101590156555176, 1.9146764278411865, 15.021829843521118]\n",
    "log_cpu_spD_dense_y = np.log10(cpu_spD_dense_y)\n",
    "\n",
    "cpu_spD_spD_y = [9.775161743164062e-06, 1.1920928955078125e-05, 4.1484832763671875e-05, 0.00010657310485839844, 0.0007491111755371094, 0.004673480987548828, 0.029819488525390625, 0.25101804733276367, 1.9145479202270508, 15.02370285987854]\n",
    "log_cpu_spD_spD_y = np.log10(cpu_spD_spD_y)\n",
    "\n",
    "cublas_spD_spD_y = [3.838539123535156e-05, 3.910064697265625e-05, 3.933906555175781e-05, 4.029273986816406e-05, 4.124641418457031e-05, 5.53131103515625e-05, 6.4849853515625e-05, 7.534027099609375e-05, 7.62939453125e-05, 7.62939453125e-05]\n",
    "log_cublas_spD_spD_y = np.log10(cublas_spD_spD_y)\n",
    "\n",
    "cublas_spD_dense_y = [3.790855407714844e-05, 3.719329833984375e-05, 3.910064697265625e-05, 4.029273986816406e-05, 3.933906555175781e-05, 4.506111145019531e-05, 6.413459777832031e-05, 7.200241088867188e-05, 7.62939453125e-05, 7.772445678710938e-05]\n",
    "log_cublas_spD_dense_y = np.log10(cublas_spD_dense_y)\n",
    "\n",
    "cusparse_csr_dense_y = [0.00047397613525390625, 0.0006654262542724609, 0.0005266666412353516, 0.0006353855133056641, 0.001184701919555664, 0.004073619842529297, 0.02835226058959961, 0.19824457168579102, 0.9794313907623291, 7.566075325012207]\n",
    "log_cusparse_csr_dense_y = np.log10(cusparse_csr_dense_y)\n",
    "\n",
    "cusp_csr_csr_y = [9.99999997475243e-07, 1.99999999495049e-06, 1.99999999495049e-06, 1.99999999495049e-06, 1.99999999495049e-06, 1.99999999495049e-06, 1.99999999495049e-06, 1.99999999495049e-06, 3.00000010611257e-06, 1.99999999495049e-06]\n",
    "log_cusp_csr_csr_y = np.log10(cusp_csr_csr_y)\n",
    "\n",
    "cusp_csr_dense_y = [1.20000004244503e-05, 1.20000004244503e-05, 1.10000000859145e-05, 1.20000004244503e-05, 1.29999998534913e-05, 1.29999998534913e-05, 1.29999998534913e-05, 1.59999999596039e-05, 1.59999999596039e-05, 1.59999999596039e-05]\n",
    "log_cusp_csr_dense_y = np.log10(cusp_csr_dense_y)\n",
    "\n",
    "ax = plt.subplot(3, 3, 5)\n",
    "ax.set_title(\"N vs. log(time) at p=0.25\")\n",
    "ax.plot(x, log_cpu_csr_csy_y, '.r-', label=\"CPU CSR * CSR\")\n",
    "ax.plot(x, log_cpu_csr_dense_y, '.b-', label=\"CPU CSR * Dense\")\n",
    "ax.plot(x, log_cpu_spD_dense_y, '.y-', label=\"CPU sparseD * Dense\")\n",
    "ax.plot(x, log_cpu_spD_spD_y, '.g-', label='CPU sparseD * sparseD')\n",
    "ax.plot(x, log_cublas_spD_spD_y, '.m-', label=\"cuBLAS sparseD * sparseD\")\n",
    "ax.plot(x, log_cublas_spD_dense_y, '.c-', label=\"cuBLAS sparseD * Dense\")\n",
    "ax.plot(x, log_cusparse_csr_dense_y, '.k-', label=\"cuSPARSE CSR * Dense\")\n",
    "ax.plot(x, log_cusp_csr_csr_y, '.C1-', label=\"CUSP CSR * CSR\")\n",
    "ax.plot(x, log_cusp_csr_dense_y, '.C5-', label=\"CUSP CSR * Dense\")\n",
    "ax.set_xlabel(\"Power of 2 (N)\")\n",
    "ax.set_ylabel(\"log(time) in sec\")"
   ]
  },
  {
   "cell_type": "code",
   "execution_count": 64,
   "metadata": {
    "collapsed": false
   },
   "outputs": [
    {
     "data": {
      "text/plain": [
       "<matplotlib.text.Text at 0x17dbfd30>"
      ]
     },
     "execution_count": 64,
     "metadata": {},
     "output_type": "execute_result"
    }
   ],
   "source": [
    "#p=0.35\n",
    "cpu_csr_csr_y = [0.0001354217529296875, 0.00016808509826660156, 0.00033211708068847656, 0.001116037368774414, 0.006099224090576172, 0.043645381927490234, 0.31252098083496094, 2.420649290084839, 20.503605604171753, 172.30138039588928]\n",
    "log_cpu_csr_csy_y = np.log10(cpu_csr_csr_y)\n",
    "\n",
    "cpu_csr_dense_y = [1.5735626220703125e-05, 2.3365020751953125e-05, 9.751319885253906e-05, 0.00047278404235839844, 0.003147602081298828, 0.021529674530029297, 0.16624236106872559, 1.3389885425567627, 17.84699559211731, 150.01993656158447]\n",
    "log_cpu_csr_dense_y = np.log10(cpu_csr_dense_y)\n",
    "\n",
    "cpu_spD_dense_y = [9.5367431640625e-06, 1.2636184692382812e-05, 3.0279159545898438e-05, 0.00010728836059570312, 0.0005934238433837891, 0.0042645931243896484, 0.032488107681274414, 0.25110936164855957, 1.914675235748291, 15.01096510887146]\n",
    "log_cpu_spD_dense_y = np.log10(cpu_spD_dense_y)\n",
    "\n",
    "cpu_spD_spD_y = [1.049041748046875e-05, 1.2636184692382812e-05, 2.7179718017578125e-05, 0.00011086463928222656, 0.0006117820739746094, 0.004242420196533203, 0.029839515686035156, 0.2513618469238281, 3.8911590576171875, 15.00934886932373]\n",
    "log_cpu_spD_spD_y = np.log10(cpu_spD_spD_y)\n",
    "\n",
    "cublas_spD_spD_y = [3.886222839355469e-05, 3.8623809814453125e-05, 3.933906555175781e-05, 3.981590270996094e-05, 4.076957702636719e-05, 4.1484832763671875e-05, 6.508827209472656e-05, 7.748603820800781e-05, 7.843971252441406e-05, 7.843971252441406e-05]\n",
    "log_cublas_spD_spD_y = np.log10(cublas_spD_spD_y)\n",
    "\n",
    "cublas_spD_dense_y = [3.743171691894531e-05, 3.7670135498046875e-0, 3.910064697265625e-05, 4.1484832763671875e-05, 3.9577484130859375e-05, 4.315376281738281e-05, 6.532669067382812e-05, 7.653236389160156e-05, 7.62939453125e-05, 7.796287536621094e-05]\n",
    "log_cublas_spD_dense_y = np.log10(cublas_spD_dense_y)\n",
    "\n",
    "cusparse_csr_dense_y = [0.000484466552734375, 0.0006258487701416016, 0.0007228851318359375, 0.0006282329559326172, 0.00128936767578125, 0.004183053970336914, 0.030482053756713867, 0.20938730239868164, 1.1416280269622803, 9.231573820114136]\n",
    "log_cusparse_csr_dense_y = np.log10(cusparse_csr_dense_y)\n",
    "\n",
    "cusp_csr_csr_y = [9.99999997475243e-07, 9.99999997475243e-07, 1.99999999495049e-06, 9.99999997475243e-07, 1.99999999495049e-06, 9.99999997475243e-07, 1.99999999495049e-06, 3.00000010611257e-06, 1.99999999495049e-06, 1.99999999495049e-06]\n",
    "log_cusp_csr_csr_y = np.log10(cusp_csr_csr_y)\n",
    "\n",
    "cusp_csr_dense_y = [1.10000000859145e-05, 1.20000004244503e-05, 1.29999998534913e-05, 1.40000001920271e-05, 1.20000004244503e-05, 1.20000004244503e-05, 1.29999998534913e-05, 1.70000002981396e-05, 1.49999996210681e-05, 1.59999999596039e-05]\n",
    "log_cusp_csr_dense_y = np.log10(cusp_csr_dense_y)\n",
    "\n",
    "ax = plt.subplot(3, 3, 6)\n",
    "ax.set_title(\"N vs. log(time) at p=0.35\")\n",
    "ax.plot(x, log_cpu_csr_csy_y, '.r-', label=\"CPU CSR * CSR\")\n",
    "ax.plot(x, log_cpu_csr_dense_y, '.b-', label=\"CPU CSR * Dense\")\n",
    "ax.plot(x, log_cpu_spD_dense_y, '.y-', label=\"CPU sparseD * Dense\")\n",
    "ax.plot(x, log_cpu_spD_spD_y, '.g-', label='CPU sparseD * sparseD')\n",
    "ax.plot(x, log_cublas_spD_spD_y, '.m-', label=\"cuBLAS sparseD * sparseD\")\n",
    "ax.plot(x, log_cublas_spD_dense_y, '.c-', label=\"cuBLAS sparseD * Dense\")\n",
    "ax.plot(x, log_cusparse_csr_dense_y, '.k-', label=\"cuSPARSE CSR * Dense\")\n",
    "ax.plot(x, log_cusp_csr_csr_y, '.C1-', label=\"CUSP CSR * CSR\")\n",
    "ax.plot(x, log_cusp_csr_dense_y, '.C5-', label=\"CUSP CSR * Dense\")\n",
    "ax.set_xlabel(\"Power of 2 (N)\")\n",
    "ax.set_ylabel(\"log(time) in sec\")"
   ]
  },
  {
   "cell_type": "code",
   "execution_count": 65,
   "metadata": {
    "collapsed": false
   },
   "outputs": [
    {
     "data": {
      "text/plain": [
       "<matplotlib.text.Text at 0x17ead710>"
      ]
     },
     "execution_count": 65,
     "metadata": {},
     "output_type": "execute_result"
    }
   ],
   "source": [
    "#p=0.5\n",
    "cpu_csr_csr_y = [0.00013589859008789062, 0.0001895427703857422, 0.0004124641418457031, 0.0016567707061767578, 0.01085972785949707, 0.07743644714355469, 0.6250176429748535, 4.846654653549194, 40.54060101509094, 332.18680715560913]\n",
    "log_cpu_csr_csy_y = np.log10(cpu_csr_csr_y)\n",
    "\n",
    "cpu_csr_dense_y = [1.6689300537109375e-05, 2.6464462280273438e-05, 9.965896606445312e-05, 0.0006279945373535156, 0.004278659820556641, 0.03432726860046387, 0.2788722515106201, 1.9116387367248535, 26.73839783668518, 212.46875190734863]\n",
    "log_cpu_csr_dense_y = np.log10(cpu_csr_dense_y)\n",
    "\n",
    "cpu_spD_dense_y = [9.059906005859375e-06, 1.1920928955078125e-05, 2.7894973754882812e-05, 0.00010824203491210938, 0.0005929470062255859, 0.004265546798706055, 0.03239870071411133, 0.23356366157531738, 1.9148709774017334, 15.007028341293335]\n",
    "log_cpu_spD_dense_y = np.log10(cpu_spD_dense_y)\n",
    "\n",
    "cpu_spD_spD_y = [9.775161743164062e-06, 1.2874603271484375e-05, 2.9087066650390625e-05, 0.00010442733764648438, 0.0007233619689941406, 0.004601001739501953, 0.03000020980834961, 0.23420095443725586, 1.9199533462524414, 15.006510257720947]\n",
    "log_cpu_spD_spD_y = np.log10(cpu_spD_spD_y)\n",
    "\n",
    "cublas_spD_spD_y = [3.8623809814453125e-05, 3.886222839355469e-05, 3.981590270996094e-05, 3.9577484130859375e-05, 4.029273986816406e-05, 4.220008850097656e-05, 6.437301635742188e-05, 7.891654968261719e-05, 7.843971252441406e-05, 7.772445678710938e-05]\n",
    "log_cublas_spD_spD_y = np.log10(cublas_spD_spD_y)\n",
    "\n",
    "cublas_spD_dense_y = [3.814697265625e-05, 3.814697265625e-05, 3.790855407714844e-05, 3.933906555175781e-05, 3.933906555175781e-05, 4.172325134277344e-05, 6.4849853515625e-05, 7.724761962890625e-05, 7.677078247070312e-05, 7.987022399902344e-05]\n",
    "log_cublas_spD_dense_y = np.log10(cublas_spD_dense_y)\n",
    "\n",
    "cusparse_csr_dense_y = [0.0006146430969238281, 0.0006816387176513672, 0.0005767345428466797, 0.0007789134979248047, 0.0013325214385986328, 0.0044786930084228516, 0.03503727912902832, 0.1854236125946045, 1.476215124130249, 11.40523886680603]\n",
    "log_cusparse_csr_dense_y = np.log10(cusparse_csr_dense_y)\n",
    "\n",
    "cusp_csr_csr_y = [9.99999997475243e-07, 9.99999997475243e-07, 9.99999997475243e-07, 1.99999999495049e-06, 1.99999999495049e-06, 1.99999999495049e-06, 1.99999999495049e-06, 1.99999999495049e-06, 1.99999999495049e-06, 1.99999999495049e-06]\n",
    "log_cusp_csr_csr_y = np.log10(cusp_csr_csr_y)\n",
    "\n",
    "cusp_csr_dense_y = [1.10000000859145e-05, 1.29999998534913e-05, 1.20000004244503e-05, 1.29999998534913e-05, 1.20000004244503e-05, 1.29999998534913e-05, 1.40000001920271e-05, 1.59999999596039e-05, 1.70000002981396e-05, 2.09999998332933e-05]\n",
    "log_cusp_csr_dense_y = np.log10(cusp_csr_dense_y)\n",
    "\n",
    "ax = plt.subplot(3, 3, 7)\n",
    "ax.set_title(\"N vs. log(time) at p=0.5\")\n",
    "ax.plot(x, log_cpu_csr_csy_y, '.r-', label=\"CPU CSR * CSR\")\n",
    "ax.plot(x, log_cpu_csr_dense_y, '.b-', label=\"CPU CSR * Dense\")\n",
    "ax.plot(x, log_cpu_spD_dense_y, '.y-', label=\"CPU sparseD * Dense\")\n",
    "ax.plot(x, log_cpu_spD_spD_y, '.g-', label='CPU sparseD * sparseD')\n",
    "ax.plot(x, log_cublas_spD_spD_y, '.m-', label=\"cuBLAS sparseD * sparseD\")\n",
    "ax.plot(x, log_cublas_spD_dense_y, '.c-', label=\"cuBLAS sparseD * Dense\")\n",
    "ax.plot(x, log_cusparse_csr_dense_y, '.k-', label=\"cuSPARSE CSR * Dense\")\n",
    "ax.plot(x, log_cusp_csr_csr_y, '.C1-', label=\"CUSP CSR * CSR\")\n",
    "ax.plot(x, log_cusp_csr_dense_y, '.C5-', label=\"CUSP CSR * Dense\")\n",
    "ax.set_xlabel(\"Power of 2 (N)\")\n",
    "ax.set_ylabel(\"log(time) in sec\")"
   ]
  },
  {
   "cell_type": "code",
   "execution_count": 66,
   "metadata": {
    "collapsed": false
   },
   "outputs": [],
   "source": [
    "plt.legend(bbox_to_anchor=(1.05, 1), loc=2, borderaxespad=0.)\n",
    "plt.savefig('mat_mat.png')"
   ]
  },
  {
   "cell_type": "code",
   "execution_count": 118,
   "metadata": {
    "collapsed": true
   },
   "outputs": [],
   "source": [
    "mpl.rcParams['figure.figsize'] = 10, 10"
   ]
  },
  {
   "cell_type": "code",
   "execution_count": 119,
   "metadata": {
    "collapsed": false
   },
   "outputs": [
    {
     "data": {
      "text/plain": [
       "<matplotlib.text.Text at 0x18421c50>"
      ]
     },
     "execution_count": 119,
     "metadata": {},
     "output_type": "execute_result"
    }
   ],
   "source": [
    "#matrix * vector\n",
    "#p-0.01\n",
    "cpu_csr_vec_y = [5.936622619628906e-05, 1.52587890625e-05, 1.621246337890625e-05, 1.8358230590820312e-05, 2.1219253540039062e-05, 2.9325485229492188e-05, 4.076957702636719e-05, 7.963180541992188e-05, 0.00020742416381835938, 0.0013051033020019531]\n",
    "log_cpu_csr_vec_y = np.log10(cpu_csr_vec_y)\n",
    "\n",
    "cpu_spD_vec_y = [4.482269287109375e-05, 1.4781951904296875e-05, 5.650520324707031e-05, 0.00011157989501953125, 0.0006697177886962891, 0.004204750061035156, 0.030823707580566406, 0.25116610527038574, 1.9149460792541504, 15.003503322601318]\n",
    "log_cpu_spD_vec_y = np.log10(cpu_spD_vec_y)\n",
    "\n",
    "cublas_spD_vec_y = [7.82012939453125e-05, 4.4345855712890625e-05, 4.291534423828125e-05, 3.933906555175781e-05, 3.814697265625e-05, 4.076957702636719e-05, 4.0531158447265625e-05, 9.608268737792969e-05, 8.654594421386719e-05, 8.535385131835938e-05]\n",
    "log_cublas_spD_vec_y = np.log10(cublas_spD_vec_y)\n",
    "\n",
    "cusparse_csr_vec_y = [0.0008106231689453125, 0.0006754398345947266, 0.0006651878356933594, 0.0007281303405761719, 0.0010180473327636719, 0.0030815601348876953, 0.006908416748046875, 0.035944461822509766, 0.16334152221679688, 0.7505805492401123]\n",
    "log_cusparse_csr_vec_y = np.log10(cusparse_csr_vec_y)\n",
    "\n",
    "cusp_csr_vec_y = [9.99999997475243e-07, 9.99999997475243e-07, 9.99999997475243e-07, 9.99999997475243e-07, 9.99999997475243e-07, 9.99999997475243e-07, 9.99999997475243e-07, 1.99999999495049e-06, \t9.99999997475243e-07, 1.99999999495049e-06]\n",
    "log_cusp_csr_vec_y = np.log10(cusp_csr_vec_y)\n",
    "\n",
    "ax = plt.subplot(3, 2, 1)\n",
    "ax.set_title(\"N vs. log(time) at p=0.01\")\n",
    "ax.plot(x, log_cpu_csr_vec_y, '.r-', label=\"CPU CSR * Vector\")\n",
    "ax.plot(x, log_cpu_spD_vec_y, '.b-', label=\"CPU sparseD * Vector\")\n",
    "ax.plot(x, log_cublas_spD_vec_y, '.y-', label=\"CPU sparseD * Vector\")\n",
    "ax.plot(x, log_cusparse_csr_vec_y, '.g-', label='cuSPARSE CSR * Vector')\n",
    "ax.plot(x, log_cusp_csr_vec_y, '.m-', label=\"CUSP CSR * Vector\")\n",
    "ax.plot(x, log_cublas_spD_vec_y, '.c-', label=\"cuBLAS sparseD * Vector\")\n",
    "ax.set_xlabel(\"Power of 2 (N)\")\n",
    "ax.set_ylabel(\"log(time) in sec\")"
   ]
  },
  {
   "cell_type": "code",
   "execution_count": 120,
   "metadata": {
    "collapsed": false
   },
   "outputs": [
    {
     "data": {
      "text/plain": [
       "<matplotlib.text.Text at 0x18556da0>"
      ]
     },
     "execution_count": 120,
     "metadata": {},
     "output_type": "execute_result"
    }
   ],
   "source": [
    "#p=0.02\n",
    "cpu_csr_vec_y = [1.5974044799804688e-05, 1.4543533325195312e-05, 1.5735626220703125e-05, 1.8358230590820312e-05, 2.1219253540039062e-05, 2.86102294921875e-05, 4.887580871582031e-05, 0.00011706352233886719, 0.0004811286926269531, 0.0024995803833007812]\n",
    "log_cpu_csr_vec_y = np.log10(cpu_csr_vec_y)\n",
    "\n",
    "cpu_spD_vec_y = [1.049041748046875e-05, 1.1205673217773438e-05, 2.8133392333984375e-05, 0.00010609626770019531, 0.0006017684936523438, 0.003960371017456055, 0.03171038627624512, 0.25114989280700684, 1.9142045974731445, 15.005228042602539]\n",
    "log_cpu_spD_vec_y = np.log10(cpu_spD_vec_y)\n",
    "\n",
    "cublas_spD_vec_y = [3.910064697265625e-05, 3.9577484130859375e-05, 3.910064697265625e-05, 3.886222839355469e-05, 3.8623809814453125e-05, 4.00543212890625e-05, 3.886222839355469e-05, 8.130073547363281e-05, 8.535385131835938e-05, 8.726119995117188e-05]\n",
    "log_cublas_cpu_spD_vec_y = np.log10(cublas_spD_vec_y)\n",
    "\n",
    "cusparse_csr_vec_y = [0.0004794597625732422, 0.000812530517578125, 0.0006818771362304688, 0.0005714893341064453, 0.001697540283203125, 0.001974821090698242, 0.006709098815917969, 0.04490351676940918, 0.19605088233947754, 1.1267151832580566]\n",
    "log_cusparse_csr_vec_y = np.log10(cusparse_csr_vec_y)\n",
    "\n",
    "cusp_csr_vec_y = [9.99999997475243e-07, 9.99999997475243e-07, 9.99999997475243e-07, 9.99999997475243e-07, 9.99999997475243e-07, 9.99999997475243e-07, 9.99999997475243e-07, 9.99999997475243e-07, 9.99999997475243e-07, 1.99999999495049e-06]\n",
    "log_cusp_csr_vec_y = np.log10(cusp_csr_vec_y)\n",
    "\n",
    "ax = plt.subplot(3, 2, 2)\n",
    "ax.set_title(\"N vs. log(time) at p=0.02\")\n",
    "ax.plot(x, log_cpu_csr_vec_y, '.r-', label=\"CPU CSR * Vector\")\n",
    "ax.plot(x, log_cpu_spD_vec_y, '.b-', label=\"CPU sparseD * Vector\")\n",
    "ax.plot(x, log_cublas_spD_vec_y, '.y-', label=\"CPU sparseD * Vector\")\n",
    "ax.plot(x, log_cusparse_csr_vec_y, '.g-', label='cuSPARSE CSR * Vector')\n",
    "ax.plot(x, log_cusp_csr_vec_y, '.m-', label=\"CUSP CSR * Vector\")\n",
    "ax.plot(x, log_cublas_spD_vec_y, '.c-', label=\"cuBLAS sparseD * Vector\")\n",
    "ax.set_xlabel(\"Power of 2 (N)\")\n",
    "ax.set_ylabel(\"log(time) in sec\")"
   ]
  },
  {
   "cell_type": "code",
   "execution_count": 121,
   "metadata": {
    "collapsed": false
   },
   "outputs": [
    {
     "data": {
      "text/plain": [
       "<matplotlib.text.Text at 0x186a3cc0>"
      ]
     },
     "execution_count": 121,
     "metadata": {},
     "output_type": "execute_result"
    }
   ],
   "source": [
    "#p-0.05\n",
    "cpu_csr_vec_y = [1.3828277587890625e-05, 1.52587890625e-05, 1.6450881958007812e-05, 1.9788742065429688e-05, 2.3603439331054688e-05, 3.790855407714844e-05, 7.724761962890625e-05, 0.0002624988555908203,  0.0011067390441894531, 0.004598379135131836]\n",
    "log_cpu_csr_vec_y = np.log10(cpu_csr_vec_y)\n",
    "\n",
    "cpu_spD_vec_y = [8.821487426757812e-06, 1.1920928955078125e-05, 3.361701965332031e-05, 0.00012111663818359375, 0.0005888938903808594, 0.003975868225097656, 0.029877662658691406, 0.25122523307800293, 1.9146249294281006, 15.007434606552124]\n",
    "log_cpu_spD_vec_y = np.log10(cpu_spD_vec_y)\n",
    "\n",
    "cublas_spD_vec_y = [4.172325134277344e-05, 4.220008850097656e-05, 4.2438507080078125e-05, 3.910064697265625e-05, 3.814697265625e-05, 3.886222839355469e-05, 5.4836273193359375e-05, 7.963180541992188e-05, 8.440017700195312e-05, 8.7738037109375e-05]\n",
    "log_cublas_cpu_spD_vec_y = np.log10(cublas_spD_vec_y)\n",
    "\n",
    "cusparse_csr_vec_y = [0.0007672309875488281, 0.0006661415100097656, 0.00049591064453125, 0.0006906986236572266, 0.0009584426879882812, 0.002355813980102539, 0.009573221206665039, 0.07018089294433594, 0.31697893142700195, 2.2076196670532227]\n",
    "log_cusparse_csr_vec_y = np.log10(cusparse_csr_vec_y)\n",
    "\n",
    "cusp_csr_vec_y = [9.99999997475243e-07, 9.99999997475243e-07, 9.99999997475243e-07, 9.99999997475243e-07, 1.99999999495049e-06, 9.99999997475243e-07, 9.99999997475243e-07, 9.99999997475243e-07, 1.99999999495049e-06, 1.99999999495049e-06]\n",
    "log_cusp_csr_vec_y = np.log10(cusp_csr_vec_y)\n",
    "\n",
    "ax = plt.subplot(3, 2, 3)\n",
    "ax.set_title(\"N vs. log(time) at p=0.05\")\n",
    "ax.plot(x, log_cpu_csr_vec_y, '.r-', label=\"CPU CSR * Vector\")\n",
    "ax.plot(x, log_cpu_spD_vec_y, '.b-', label=\"CPU sparseD * Vector\")\n",
    "ax.plot(x, log_cublas_spD_vec_y, '.y-', label=\"CPU sparseD * Vector\")\n",
    "ax.plot(x, log_cusparse_csr_vec_y, '.g-', label='cuSPARSE CSR * Vector')\n",
    "ax.plot(x, log_cusp_csr_vec_y, '.m-', label=\"CUSP CSR * Vector\")\n",
    "ax.plot(x, log_cublas_spD_vec_y, '.c-', label=\"cuBLAS sparseD * Vector\")\n",
    "ax.set_xlabel(\"Power of 2 (N)\")\n",
    "ax.set_ylabel(\"log(time) in sec\")"
   ]
  },
  {
   "cell_type": "code",
   "execution_count": 122,
   "metadata": {
    "collapsed": false
   },
   "outputs": [
    {
     "data": {
      "text/plain": [
       "<matplotlib.text.Text at 0x18776f28>"
      ]
     },
     "execution_count": 122,
     "metadata": {},
     "output_type": "execute_result"
    }
   ],
   "source": [
    "#p-0.10\n",
    "cpu_csr_vec_y = [1.430511474609375e-05, 1.5497207641601562e-05, 1.71661376953125e-05, 2.09808349609375e-05, 2.7418136596679688e-05, 5.054473876953125e-05, 0.00013780593872070312, 0.0005390644073486328, 0.0023183822631835938, 0.009716033935546875]\n",
    "log_cpu_csr_vec_y = np.log10(cpu_csr_vec_y)\n",
    "\n",
    "cpu_spD_vec_y = [9.059906005859375e-06, 1.1444091796875e-05, 2.7894973754882812e-05, 0.00011134147644042969, 0.0005915164947509766, 0.0042493343353271484, 0.031980276107788086, 0.25113797187805176, 1.9144291877746582, 15.014004230499268]\n",
    "log_cpu_spD_vec_y = np.log10(cpu_spD_vec_y)\n",
    "\n",
    "cublas_spD_vec_y = [4.029273986816406e-05, 3.8623809814453125e-05, 4.0531158447265625e-05, 4.029273986816406e-05, 3.790855407714844e-05, 4.124641418457031e-05, 5.7697296142578125e-05, 8.106231689453125e-05, 8.296966552734375e-05, 8.654594421386719e-05]\n",
    "log_cublas_cpu_spD_vec_y = np.log10(cublas_spD_vec_y)\n",
    "\n",
    "cusparse_csr_vec_y = [0.0006396770477294922, 0.0004887580871582031, 0.0006852149963378906, 0.0005755424499511719, 0.0010411739349365234, 0.0028073787689208984, 0.01451253890991211, 0.12348389625549316, 0.5257678031921387, 3.8256494998931885]\n",
    "log_cusparse_csr_vec_y = np.log10(cusparse_csr_vec_y)\n",
    "\n",
    "cusp_csr_vec_y = [9.99999997475243e-07, 9.99999997475243e-07, 9.99999997475243e-07, 9.99999997475243e-07, 9.99999997475243e-07, 9.99999997475243e-07, 1.99999999495049e-06, 3.00000010611257e-06, 1.99999999495049e-06, 1.99999999495049e-06]\n",
    "log_cusp_csr_vec_y = np.log10(cusp_csr_vec_y)\n",
    "\n",
    "ax = plt.subplot(3, 2, 4)\n",
    "ax.set_title(\"N vs. log(time) at p=0.10\")\n",
    "ax.plot(x, log_cpu_csr_vec_y, '.r-', label=\"CPU CSR * Vector\")\n",
    "ax.plot(x, log_cpu_spD_vec_y, '.b-', label=\"CPU sparseD * Vector\")\n",
    "ax.plot(x, log_cublas_spD_vec_y, '.y-', label=\"CPU sparseD * Vector\")\n",
    "ax.plot(x, log_cusparse_csr_vec_y, '.g-', label='cuSPARSE CSR * Vector')\n",
    "ax.plot(x, log_cusp_csr_vec_y, '.m-', label=\"CUSP CSR * Vector\")\n",
    "ax.plot(x, log_cublas_spD_vec_y, '.c-', label=\"cuBLAS sparseD * Vector\")\n",
    "ax.set_xlabel(\"Power of 2 (N)\")\n",
    "ax.set_ylabel(\"log(time) in sec\")"
   ]
  },
  {
   "cell_type": "code",
   "execution_count": 123,
   "metadata": {
    "collapsed": false
   },
   "outputs": [
    {
     "data": {
      "text/plain": [
       "<matplotlib.text.Text at 0x1884f5c0>"
      ]
     },
     "execution_count": 123,
     "metadata": {},
     "output_type": "execute_result"
    }
   ],
   "source": [
    "#p=0.25\n",
    "cpu_csr_vec_y = [1.4781951904296875e-05, 1.621246337890625e-05, 2.09808349609375e-05, 2.384185791015625e-05, 4.029273986816406e-05, 9.512901306152344e-05, 0.0003306865692138672, 0.00148773193359375, 0.005336761474609375, 0.02169322967529297]\n",
    "log_cpu_csr_vec_y = np.log10(cpu_csr_vec_y)\n",
    "\n",
    "cpu_spD_vec_y = [9.059906005859375e-06, 1.239776611328125e-05, 4.506111145019531e-05, 0.00012230873107910156, 0.0005748271942138672, 0.004082679748535156, 0.03043532371520996, 0.25101590156555176, 1.9146764278411865, 15.021829843521118]\n",
    "log_cpu_spD_vec_y = np.log10(cpu_spD_vec_y)\n",
    "\n",
    "cublas_spD_vec_y = [4.291534423828125e-05, 4.1961669921875e-05, 4.2438507080078125e-05, 3.981590270996094e-05, 3.695487976074219e-05, 5.888938903808594e-05, 5.888938903808594e-05, 8.559226989746094e-05, 8.368492126464844e-05, 8.678436279296875e-05]\n",
    "log_cublas_cpu_spD_vec_y = np.log10(cublas_spD_vec_y)\n",
    "\n",
    "cusparse_csr_vec_y = [0.00047397613525390625, 0.0006654262542724609, 0.0005266666412353516, 0.0006353855133056641, 0.001184701919555664, 0.004073619842529297, 0.02835226058959961, 0.19824457168579102, 0.9794313907623291, 7.566075325012207]\n",
    "log_cusparse_csr_vec_y = np.log10(cusparse_csr_vec_y)\n",
    "\n",
    "cusp_csr_vec_y = [9.99999997475243e-07, 9.99999997475243e-07, 1.99999999495049e-06, 9.99999997475243e-07, 9.99999997475243e-07, 9.99999997475243e-07, 9.99999997475243e-07, 1.99999999495049e-06, 1.99999999495049e-06, 1.99999999495049e-06]\n",
    "log_cusp_csr_vec_y = np.log10(cusp_csr_vec_y)\n",
    "\n",
    "ax = plt.subplot(3, 2, 5)\n",
    "ax.set_title(\"N vs. log(time) at p=0.25\")\n",
    "ax.plot(x, log_cpu_csr_vec_y, '.r-', label=\"CPU CSR * Vector\")\n",
    "ax.plot(x, log_cpu_spD_vec_y, '.b-', label=\"CPU sparseD * Vector\")\n",
    "ax.plot(x, log_cublas_spD_vec_y, '.y-', label=\"CPU sparseD * Vector\")\n",
    "ax.plot(x, log_cusparse_csr_vec_y, '.g-', label='cuSPARSE CSR * Vector')\n",
    "ax.plot(x, log_cusp_csr_vec_y, '.m-', label=\"CUSP CSR * Vector\")\n",
    "ax.plot(x, log_cublas_spD_vec_y, '.c-', label=\"cuBLAS sparseD * Vector\")\n",
    "ax.set_xlabel(\"Power of 2 (N)\")\n",
    "ax.set_ylabel(\"log(time) in sec\")"
   ]
  },
  {
   "cell_type": "code",
   "execution_count": 124,
   "metadata": {
    "collapsed": false
   },
   "outputs": [
    {
     "data": {
      "text/plain": [
       "<matplotlib.text.Text at 0x18966dd8>"
      ]
     },
     "execution_count": 124,
     "metadata": {},
     "output_type": "execute_result"
    }
   ],
   "source": [
    "#p=0.5\n",
    "cpu_csr_vec_y = [1.5020370483398438e-05, 1.6450881958007812e-05, 1.8596649169921875e-05, 2.6702880859375e-05, 5.459785461425781e-05, 0.0001628398895263672, 0.0006055831909179688, 0.002363443374633789, 0.013625621795654297, 0.04367566108703613]\n",
    "log_cpu_csr_vec_y = np.log10(cpu_csr_vec_y)\n",
    "\n",
    "cpu_spD_vec_y = [9.059906005859375e-06, 1.1920928955078125e-05, 2.7894973754882812e-05, 0.00010824203491210938, 0.0005929470062255859, 0.004265546798706055, 0.03239870071411133, 0.23356366157531738, 1.9148709774017334, 15.007028341293335]\n",
    "log_cpu_spD_vec_y = np.log10(cpu_spD_vec_y)\n",
    "\n",
    "cublas_spD_vec_y = [4.029273986816406e-05, 3.9577484130859375e-05, 3.981590270996094e-05, 3.9577484130859375e-05, 3.695487976074219e-05, 4.029273986816406e-05, 5.984306335449219e-05, 8.487701416015625e-05, 8.487701416015625e-05, 8.654594421386719e-05]\n",
    "log_cublas_cpu_spD_vec_y = np.log10(cublas_spD_vec_y)\n",
    "\n",
    "cusparse_csr_vec_y = [0.0006146430969238281, 0.0006816387176513672, 0.0005767345428466797, 0.0007789134979248047, 0.0013325214385986328, 0.0044786930084228516, 0.03503727912902832, 0.1854236125946045, 1.476215124130249, 11.40523886680603]\n",
    "log_cusparse_csr_vec_y = np.log10(cusparse_csr_vec_y)\n",
    "\n",
    "cusp_csr_vec_y = [9.99999997475243e-07, 9.99999997475243e-07, 9.99999997475243e-07, 1.99999999495049e-06, 1.99999999495049e-06, 9.99999997475243e-07, 1.99999999495049e-06, 3.00000010611257e-06, 9.99999997475243e-07, 9.99999997475243e-07]\n",
    "log_cusp_csr_vec_y = np.log10(cusp_csr_vec_y)\n",
    "\n",
    "ax = plt.subplot(3, 2, 6)\n",
    "ax.set_title(\"N vs. log(time) at p=0.50\")\n",
    "ax.plot(x, log_cpu_csr_vec_y, '.r-', label=\"CPU CSR * Vector\")\n",
    "ax.plot(x, log_cpu_spD_vec_y, '.b-', label=\"CPU sparseD * Vector\")\n",
    "ax.plot(x, log_cublas_spD_vec_y, '.y-', label=\"CPU sparseD * Vector\")\n",
    "ax.plot(x, log_cusparse_csr_vec_y, '.g-', label='cuSPARSE CSR * Vector')\n",
    "ax.plot(x, log_cusp_csr_vec_y, '.m-', label=\"CUSP CSR * Vector\")\n",
    "ax.plot(x, log_cublas_spD_vec_y, '.c-', label=\"cuBLAS sparseD * Vector\")\n",
    "ax.set_xlabel(\"Power of 2 (N)\")\n",
    "ax.set_ylabel(\"log(time) in sec\")"
   ]
  },
  {
   "cell_type": "code",
   "execution_count": 125,
   "metadata": {
    "collapsed": false
   },
   "outputs": [],
   "source": [
    "plt.legend(bbox_to_anchor=(1.05, 0), loc='lower left', borderaxespad=0.)\n",
    "plt.savefig('mat_vec.png')"
   ]
  }
 ],
 "metadata": {
  "kernelspec": {
   "display_name": "Python 2",
   "language": "python",
   "name": "python2"
  },
  "language_info": {
   "codemirror_mode": {
    "name": "ipython",
    "version": 2
   },
   "file_extension": ".py",
   "mimetype": "text/x-python",
   "name": "python",
   "nbconvert_exporter": "python",
   "pygments_lexer": "ipython2",
   "version": "2.7.13"
  }
 },
 "nbformat": 4,
 "nbformat_minor": 2
}
