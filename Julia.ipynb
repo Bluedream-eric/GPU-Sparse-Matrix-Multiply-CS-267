{
 "cells": [
  {
   "cell_type": "code",
   "execution_count": 1,
   "metadata": {},
   "outputs": [
    {
     "name": "stderr",
     "output_type": "stream",
     "text": [
      "\n",
      "WARNING: deprecated syntax \"inner constructor CudaSparseVector(...) around /home/ubuntu/.julia/v0.6/CUSPARSE/src/util.jl:25\".\n",
      "Use \"CudaSparseVector{#s1}(...) where #s1\" instead.\n",
      "\n",
      "WARNING: deprecated syntax \"inner constructor CudaSparseMatrixCSC(...) around /home/ubuntu/.julia/v0.6/CUSPARSE/src/util.jl:45\".\n",
      "Use \"CudaSparseMatrixCSC{#s1}(...) where #s1\" instead.\n",
      "\n",
      "WARNING: deprecated syntax \"inner constructor CudaSparseMatrixCSR(...) around /home/ubuntu/.julia/v0.6/CUSPARSE/src/util.jl:65\".\n",
      "Use \"CudaSparseMatrixCSR{#s1}(...) where #s1\" instead.\n",
      "\n",
      "WARNING: deprecated syntax \"inner constructor CudaSparseMatrixBSR(...) around /home/ubuntu/.julia/v0.6/CUSPARSE/src/util.jl:85\".\n",
      "Use \"CudaSparseMatrixBSR{#s1}(...) where #s1\" instead.\n",
      "\n",
      "WARNING: deprecated syntax \"inner constructor CudaSparseMatrixHYB(...) around /home/ubuntu/.julia/v0.6/CUSPARSE/src/util.jl:102\".\n",
      "Use \"CudaSparseMatrixHYB{Tv}(...) where Tv\" instead.\n"
     ]
    }
   ],
   "source": [
    "using CUSPARSE\n",
    "using CUDArt"
   ]
  },
  {
   "cell_type": "code",
   "execution_count": 3,
   "metadata": {},
   "outputs": [
    {
     "name": "stdout",
     "output_type": "stream",
     "text": [
      "elapsed time: 0.000862659 seconds\n"
     ]
    },
    {
     "data": {
      "text/plain": [
       "0.000862659"
      ]
     },
     "execution_count": 3,
     "metadata": {},
     "output_type": "execute_result"
    }
   ],
   "source": [
    "using CUSPARSE\n",
    "\n",
    "# dimensions and fill proportion\n",
    "N = 50\n",
    "M = 50\n",
    "p = 0.3\n",
    "\n",
    "# create matrices A,B on the CPU \n",
    "A = sprand(N,M,p)\n",
    "B = sprand(N,M,p)\n",
    "\n",
    "d_A = CudaSparseMatrixCSR(A)\n",
    "d_B = CudaSparseMatrixCSR(B)\n",
    "\n",
    "\n",
    "\n",
    "tic()\n",
    "d_C = CUSPARSE.gemm('N', 'N', d_A,d_B,'Z', 'Z', 'Z')\n",
    "toc()\n",
    "# bring the result back to the CPU\n",
    "#C = CUSPARSE.to_host(d_C)"
   ]
  },
  {
   "cell_type": "code",
   "execution_count": 6,
   "metadata": {},
   "outputs": [
    {
     "data": {
      "text/plain": [
       "20×10 SparseMatrixCSC{Float64,Int64} with 0 stored entries"
      ]
     },
     "execution_count": 6,
     "metadata": {},
     "output_type": "execute_result"
    }
   ],
   "source": [
    "using CUSPARSE\n",
    "\n",
    "# dimensions and fill proportion\n",
    "N = 20\n",
    "M = 10\n",
    "p = 0.1\n",
    "\n",
    "# create matrices A,B on the CPU \n",
    "A = sprand(N,M,p)\n",
    "B = sprand(N,M,p)\n",
    "\n",
    "# convert A,B to CSR format and\n",
    "# move them to the GPU - one step\n",
    "d_A = CudaSparseMatrixCSR(A)\n",
    "d_B = CudaSparseMatrixCSR(B)\n",
    "\n",
    "# generate scalar parameters\n",
    "alpha = rand()\n",
    "beta  = rand()\n",
    "\n",
    "# perform alpha * A + beta * B\n",
    "d_C = CUSPARSE.geam(alpha, d_A, beta, d_B, 'O', 'O', 'O')\n",
    "\n",
    "# bring the result back to the CPU\n",
    "C = CUSPARSE.to_host(d_C)\n",
    "\n",
    "# observe a zero matrix\n",
    "alpha*A + beta*B - C"
   ]
  }
 ],
 "metadata": {
  "kernelspec": {
   "display_name": "Julia 0.6.2",
   "language": "julia",
   "name": "julia-0.6"
  },
  "language_info": {
   "file_extension": ".jl",
   "mimetype": "application/julia",
   "name": "julia",
   "version": "0.6.2"
  }
 },
 "nbformat": 4,
 "nbformat_minor": 2
}
