{
 "cells": [
  {
   "cell_type": "code",
   "execution_count": 80,
   "metadata": {},
   "outputs": [],
   "source": [
    "from pyculib.sparse import Sparse\n",
    "import pyculib.sparse as sp\n",
    "import numpy as np\n",
    "from scipy.sparse import coo_matrix\n",
    "\n",
    "import time"
   ]
  },
  {
   "cell_type": "code",
   "execution_count": 88,
   "metadata": {},
   "outputs": [
    {
     "name": "stdout",
     "output_type": "stream",
     "text": [
      "Total:  0.6126213073730469\n"
     ]
    }
   ],
   "source": [
    "N = 10000\n",
    "s = sp.Sparse()\n",
    "a_desc = s.matdescr(indexbase=0,matrixtype='G')\n",
    "a = coo_matrix(np.eye(N))\n",
    "ap = sp.csr_matrix(a)\n",
    "\n",
    "transA = 'N'\n",
    "transB = transA\n",
    "b = np.random.rand(N, N).astype(np.float64)\n",
    "c = np.zeros((N,N))\n",
    "d = c[:]\n",
    "\n",
    "\n",
    "start = time.time()\n",
    "\n",
    "sp.Sparse.csrmm2(s, transA, transB, N, N, N, len(a.data), 1.0, a_desc, ap.data, ap.indptr, ap.indices, b, N, 1.0, c, N)\n",
    "c\n",
    "end = time.time()\n",
    "print(\"Total: \", end-start)"
   ]
  }
 ],
 "metadata": {
  "kernelspec": {
   "display_name": "Python 3",
   "language": "python",
   "name": "python3"
  },
  "language_info": {
   "codemirror_mode": {
    "name": "ipython",
    "version": 3
   },
   "file_extension": ".py",
   "mimetype": "text/x-python",
   "name": "python",
   "nbconvert_exporter": "python",
   "pygments_lexer": "ipython3",
   "version": "3.6.4"
  }
 },
 "nbformat": 4,
 "nbformat_minor": 2
}
