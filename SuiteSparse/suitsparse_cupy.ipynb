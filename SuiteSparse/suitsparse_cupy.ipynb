{
 "cells": [
  {
   "cell_type": "code",
   "execution_count": 1,
   "metadata": {},
   "outputs": [
    {
     "name": "stderr",
     "output_type": "stream",
     "text": [
      "/home/ubuntu/anaconda3/lib/python3.6/site-packages/matplotlib/__init__.py:1067: UserWarning: Duplicate key in file \"/home/ubuntu/.config/matplotlib/matplotlibrc\", line #2\n",
      "  (fname, cnt))\n",
      "/home/ubuntu/anaconda3/lib/python3.6/site-packages/matplotlib/__init__.py:1067: UserWarning: Duplicate key in file \"/home/ubuntu/.config/matplotlib/matplotlibrc\", line #3\n",
      "  (fname, cnt))\n"
     ]
    }
   ],
   "source": [
    "import cupy as cp \n",
    "import numpy as np\n",
    "from scipy.sparse import coo_matrix\n",
    "import scipy\n",
    "import time\n",
    "import pandas as pd\n",
    "import scipy.io as sio\n",
    "\n",
    "\n",
    "import os "
   ]
  },
  {
   "cell_type": "code",
   "execution_count": 2,
   "metadata": {},
   "outputs": [
    {
     "data": {
      "text/html": [
       "<div>\n",
       "<style scoped>\n",
       "    .dataframe tbody tr th:only-of-type {\n",
       "        vertical-align: middle;\n",
       "    }\n",
       "\n",
       "    .dataframe tbody tr th {\n",
       "        vertical-align: top;\n",
       "    }\n",
       "\n",
       "    .dataframe thead th {\n",
       "        text-align: right;\n",
       "    }\n",
       "</style>\n",
       "<table border=\"1\" class=\"dataframe\">\n",
       "  <thead>\n",
       "    <tr style=\"text-align: right;\">\n",
       "      <th></th>\n",
       "      <th>4000</th>\n",
       "      <th>8000</th>\n",
       "      <th>40000</th>\n",
       "      <th>80000</th>\n",
       "      <th>160000</th>\n",
       "    </tr>\n",
       "  </thead>\n",
       "  <tbody>\n",
       "    <tr>\n",
       "      <th>0.0001</th>\n",
       "      <td>bcsstm24.mat</td>\n",
       "      <td>bcsstm38.mat</td>\n",
       "      <td>cond-mat-2005.mat</td>\n",
       "      <td>net4-1.mat</td>\n",
       "      <td>para-4.mat</td>\n",
       "    </tr>\n",
       "    <tr>\n",
       "      <th>0.001</th>\n",
       "      <td>c-24.mat</td>\n",
       "      <td>c-39.mat</td>\n",
       "      <td>bbmat.mat</td>\n",
       "      <td>consph.mat</td>\n",
       "      <td>pkustk14.mat</td>\n",
       "    </tr>\n",
       "    <tr>\n",
       "      <th>0.01</th>\n",
       "      <td>crystk01.mat</td>\n",
       "      <td>msc10848.mat</td>\n",
       "      <td>TSOPF_RS_b2383_c1.mat</td>\n",
       "      <td></td>\n",
       "      <td></td>\n",
       "    </tr>\n",
       "    <tr>\n",
       "      <th>0.1</th>\n",
       "      <td>heart1.mat</td>\n",
       "      <td>human_gene2.mat</td>\n",
       "      <td></td>\n",
       "      <td></td>\n",
       "      <td></td>\n",
       "    </tr>\n",
       "  </tbody>\n",
       "</table>\n",
       "</div>"
      ],
      "text/plain": [
       "                4000             8000                  40000       80000  \\\n",
       "0.0001  bcsstm24.mat     bcsstm38.mat      cond-mat-2005.mat  net4-1.mat   \n",
       "0.001       c-24.mat         c-39.mat              bbmat.mat  consph.mat   \n",
       "0.01    crystk01.mat     msc10848.mat  TSOPF_RS_b2383_c1.mat               \n",
       "0.1       heart1.mat  human_gene2.mat                                      \n",
       "\n",
       "              160000  \n",
       "0.0001    para-4.mat  \n",
       "0.001   pkustk14.mat  \n",
       "0.01                  \n",
       "0.1                   "
      ]
     },
     "execution_count": 2,
     "metadata": {},
     "output_type": "execute_result"
    }
   ],
   "source": [
    "# Construct the table of reference to map N/density to the file names.\n",
    "table = pd.DataFrame(index=['0.0001', '0.001', '0.01', '0.1'], columns=['4000', '8000', '40000', '80000', '160000'])\n",
    "results = pd.DataFrame(index=['0.0001', '0.001', '0.01', '0.1'], columns=['4000', '8000', '40000', '80000', '160000'])\n",
    "table['4000']['0.0001'] = 'bcsstm24.mat'\n",
    "table['4000']['0.001'] = 'c-24.mat'\n",
    "table['4000']['0.01'] = 'crystk01.mat'\n",
    "table['4000']['0.1'] = 'heart1.mat'\n",
    "table['8000']['0.0001'] = 'bcsstm38.mat'\n",
    "table['8000']['0.001'] = 'c-39.mat'\n",
    "table['8000']['0.01'] = 'msc10848.mat'\n",
    "table['8000']['0.1'] = 'human_gene2.mat' # previously 'TSC_OPF_1047.mat' \n",
    "table['40000']['0.0001'] = 'cond-mat-2005.mat'\n",
    "table['40000']['0.001'] = 'bbmat.mat'\n",
    "table['40000']['0.01'] = 'TSOPF_RS_b2383_c1.mat'\n",
    "table['40000']['0.1'] = '' # Does not exist.\n",
    "table['80000']['0.0001'] = 'net4-1.mat'\n",
    "table['80000']['0.001'] = 'consph.mat'\n",
    "table['80000']['0.01'] = '' # Does not exist\n",
    "table['80000']['0.1'] = '' # Does not exist\n",
    "table['160000']['0.0001'] = 'para-4.mat'\n",
    "table['160000']['0.001'] = 'pkustk14.mat'\n",
    "table['160000']['0.01'] = '' # Does not exist\n",
    "table['160000']['0.1'] = '' # Does not exist\n",
    "table"
   ]
  },
  {
   "cell_type": "code",
   "execution_count": 12,
   "metadata": {},
   "outputs": [],
   "source": [
    "# Handle all the edge cases for all files\n",
    "def load_matrix(matrix_name):\n",
    "    data = sio.loadmat(matrix_name)\n",
    "    P = data['Problem']\n",
    "    zeros = {'net4-1.mat'}\n",
    "    twos = {'consph.mat','human_gene2.mat','TSOPF_RS_b2383_c1.mat','cond-mat-2005.mat', 'para-4.mat'}\n",
    "    fours = {'c-24.mat','c-39.mat'}\n",
    "    if matrix_name in zeros:\n",
    "        x = P[0][0][0]\n",
    "    elif matrix_name in twos:\n",
    "        x = P[0][0][2]\n",
    "    elif matrix_name in fours:\n",
    "        x = P[0][0][4]\n",
    "    else:\n",
    "        x = P[0][0][1]\n",
    "    return x\n",
    "\n",
    "def multiply_and_time(matrix_name, N, p, results):\n",
    "    if not matrix_name:\n",
    "        return\n",
    "    x = load_matrix(matrix_name)\n",
    "    x_gpu = cp.sparse.csr_matrix(x) # Convert to Cupy GPU CSR matrix.\n",
    "    nonzeros = x_gpu.count_nonzero()\n",
    "    density = nonzeros / (x_gpu.shape[0] * x_gpu.shape[1])\n",
    "    print('\\tShape of {0} is {1} with density={2}'.format(matrix_name, x_gpu.shape, density))\n",
    "    start = time.time()\n",
    "    x_gpu.dot(x_gpu.T)\n",
    "    end = time.time()\n",
    "    print(\"\\tTime for {0} = {1}\".format(matrix_name, end-start))\n",
    "    results[N][p] = end-start\n",
    "    return\n",
    "\n",
    "\n",
    "def multiply_all(table, results, skip_computed=False):\n",
    "    for N in ['4000', '8000', '40000', '80000', '160000']:\n",
    "        for p in ['0.0001', '0.001', '0.01', '0.1']:\n",
    "            print(\"For N={0}, p={1}\".format(N,p))\n",
    "            if not results.isna()[N][p] and skip_computed:\n",
    "                print(\"\\t Skipping, already computed.\")\n",
    "            else:\n",
    "                multiply_and_time(table[N][p], N, p, results)"
   ]
  },
  {
   "cell_type": "code",
   "execution_count": 13,
   "metadata": {},
   "outputs": [
    {
     "name": "stdout",
     "output_type": "stream",
     "text": [
      "For N=4000, p=0.0001\n",
      "\t Skipping, already computed.\n",
      "For N=4000, p=0.001\n",
      "\t Skipping, already computed.\n",
      "For N=4000, p=0.01\n",
      "\t Skipping, already computed.\n",
      "For N=4000, p=0.1\n",
      "\t Skipping, already computed.\n",
      "For N=8000, p=0.0001\n",
      "\t Skipping, already computed.\n",
      "For N=8000, p=0.001\n",
      "\t Skipping, already computed.\n",
      "For N=8000, p=0.01\n",
      "\t Skipping, already computed.\n",
      "For N=8000, p=0.1\n",
      "\t Skipping, already computed.\n",
      "For N=40000, p=0.0001\n",
      "\t Skipping, already computed.\n",
      "For N=40000, p=0.001\n",
      "\t Skipping, already computed.\n",
      "For N=40000, p=0.01\n",
      "\t Skipping, already computed.\n",
      "For N=40000, p=0.1\n",
      "For N=80000, p=0.0001\n",
      "\t Skipping, already computed.\n",
      "For N=80000, p=0.001\n",
      "\t Skipping, already computed.\n",
      "For N=80000, p=0.01\n",
      "For N=80000, p=0.1\n",
      "For N=160000, p=0.0001\n",
      "\t Skipping, already computed.\n",
      "For N=160000, p=0.001\n",
      "\t Skipping, already computed.\n",
      "For N=160000, p=0.01\n",
      "For N=160000, p=0.1\n",
      "Done!\n"
     ]
    }
   ],
   "source": [
    "multiply_all(table, results, skip_computed=True)\n",
    "print(\"Done!\")"
   ]
  },
  {
   "cell_type": "code",
   "execution_count": 14,
   "metadata": {},
   "outputs": [
    {
     "data": {
      "text/html": [
       "<div>\n",
       "<style scoped>\n",
       "    .dataframe tbody tr th:only-of-type {\n",
       "        vertical-align: middle;\n",
       "    }\n",
       "\n",
       "    .dataframe tbody tr th {\n",
       "        vertical-align: top;\n",
       "    }\n",
       "\n",
       "    .dataframe thead th {\n",
       "        text-align: right;\n",
       "    }\n",
       "</style>\n",
       "<table border=\"1\" class=\"dataframe\">\n",
       "  <thead>\n",
       "    <tr style=\"text-align: right;\">\n",
       "      <th></th>\n",
       "      <th>4000</th>\n",
       "      <th>8000</th>\n",
       "      <th>40000</th>\n",
       "      <th>80000</th>\n",
       "      <th>160000</th>\n",
       "    </tr>\n",
       "  </thead>\n",
       "  <tbody>\n",
       "    <tr>\n",
       "      <th>0.0001</th>\n",
       "      <td>0.238542</td>\n",
       "      <td>0.0105708</td>\n",
       "      <td>0.336009</td>\n",
       "      <td>8.70646</td>\n",
       "      <td>2.78659</td>\n",
       "    </tr>\n",
       "    <tr>\n",
       "      <th>0.001</th>\n",
       "      <td>0.0460293</td>\n",
       "      <td>0.107834</td>\n",
       "      <td>0.352601</td>\n",
       "      <td>1.31786</td>\n",
       "      <td>4.71152</td>\n",
       "    </tr>\n",
       "    <tr>\n",
       "      <th>0.01</th>\n",
       "      <td>0.0945711</td>\n",
       "      <td>0.504787</td>\n",
       "      <td>145.117</td>\n",
       "      <td>NaN</td>\n",
       "      <td>NaN</td>\n",
       "    </tr>\n",
       "    <tr>\n",
       "      <th>0.1</th>\n",
       "      <td>1.24583</td>\n",
       "      <td>102.594</td>\n",
       "      <td>NaN</td>\n",
       "      <td>NaN</td>\n",
       "      <td>NaN</td>\n",
       "    </tr>\n",
       "  </tbody>\n",
       "</table>\n",
       "</div>"
      ],
      "text/plain": [
       "             4000       8000     40000    80000   160000\n",
       "0.0001   0.238542  0.0105708  0.336009  8.70646  2.78659\n",
       "0.001   0.0460293   0.107834  0.352601  1.31786  4.71152\n",
       "0.01    0.0945711   0.504787   145.117      NaN      NaN\n",
       "0.1       1.24583    102.594       NaN      NaN      NaN"
      ]
     },
     "execution_count": 14,
     "metadata": {},
     "output_type": "execute_result"
    }
   ],
   "source": [
    "results"
   ]
  },
  {
   "cell_type": "markdown",
   "metadata": {},
   "source": [
    "### CSR x Dense Matrix"
   ]
  },
  {
   "cell_type": "code",
   "execution_count": 17,
   "metadata": {},
   "outputs": [],
   "source": [
    "results_2 = pd.DataFrame(index=['0.0001', '0.001', '0.01', '0.1'], columns=['4000', '8000', '40000', '80000', '160000'])"
   ]
  },
  {
   "cell_type": "code",
   "execution_count": 22,
   "metadata": {
    "scrolled": false
   },
   "outputs": [
    {
     "name": "stdout",
     "output_type": "stream",
     "text": [
      "For N=4000, p=0.0001\n",
      "\t Skipping, already computed.\n",
      "For N=4000, p=0.001\n",
      "\t Skipping, already computed.\n",
      "For N=4000, p=0.01\n",
      "\t Skipping, already computed.\n",
      "For N=4000, p=0.1\n",
      "\t Skipping, already computed.\n",
      "For N=8000, p=0.0001\n",
      "\t Skipping, already computed.\n",
      "For N=8000, p=0.001\n",
      "\t Skipping, already computed.\n",
      "For N=8000, p=0.01\n",
      "\t Skipping, already computed.\n",
      "For N=8000, p=0.1\n",
      "\t Skipping, already computed.\n",
      "For N=40000, p=0.0001\n",
      "\tShape of cond-mat-2005.mat is (40421, 40421) with density=0.00021506285321778613\n",
      "\tCaught Cuda memory exception\n",
      "For N=40000, p=0.001\n",
      "\tShape of bbmat.mat is (38744, 38744) with density=0.0011802843969227594\n",
      "\tCaught Cuda memory exception\n",
      "For N=40000, p=0.01\n",
      "\tShape of TSOPF_RS_b2383_c1.mat is (38120, 38120) with density=0.011128474420535361\n",
      "\tCaught Cuda memory exception\n",
      "For N=40000, p=0.1\n",
      "For N=80000, p=0.0001\n",
      "\tShape of net4-1.mat is (88343, 88343) with density=0.00031286200139439834\n",
      "\tCaught Cuda memory exception\n",
      "For N=80000, p=0.001\n",
      "\tShape of consph.mat is (83334, 83334) with density=0.000865495272020256\n",
      "\tCaught Cuda memory exception\n",
      "For N=80000, p=0.01\n",
      "For N=80000, p=0.1\n",
      "For N=160000, p=0.0001\n",
      "\tShape of para-4.mat is (153226, 153226) with density=0.0001248341489838898\n",
      "\tCaught Cuda memory exception\n",
      "For N=160000, p=0.001\n",
      "\tShape of pkustk14.mat is (151926, 151926) with density=0.0006427874232154053\n",
      "\tCaught Cuda memory exception\n",
      "For N=160000, p=0.01\n",
      "For N=160000, p=0.1\n",
      "Done!\n"
     ]
    }
   ],
   "source": [
    "def multiply_and_time(matrix_name, N, p, results):\n",
    "    if not matrix_name:\n",
    "        return\n",
    "    try:\n",
    "        x = load_matrix(matrix_name)\n",
    "        x_gpu = cp.sparse.csr_matrix(x) # Convert to Cupy GPU CSR matrix.\n",
    "        nonzeros = x_gpu.count_nonzero()\n",
    "        density = nonzeros / (x_gpu.shape[0] * x_gpu.shape[1])\n",
    "        print('\\tShape of {0} is {1} with density={2}'.format(matrix_name, x_gpu.shape, density))\n",
    "        N_x = x_gpu.shape[0]\n",
    "        y = scipy.sparse.random(N_x,N_x, float(p), \"csr\")\n",
    "        y = y.todense()\n",
    "        y = cp.array(y)\n",
    "\n",
    "        start = time.time()\n",
    "        x_gpu.dot(y)\n",
    "        end = time.time()\n",
    "        print(\"\\tTime for {0} = {1}\".format(matrix_name, end-start))\n",
    "        results[N][p] = end-start\n",
    "    except:\n",
    "        print(\"\\tCaught Cuda memory exception\")\n",
    "    return\n",
    "\n",
    "multiply_all(table, results_2, skip_computed=True)\n",
    "print(\"Done!\")"
   ]
  },
  {
   "cell_type": "code",
   "execution_count": 232,
   "metadata": {},
   "outputs": [
    {
     "data": {
      "text/plain": [
       "0.0001"
      ]
     },
     "execution_count": 232,
     "metadata": {},
     "output_type": "execute_result"
    }
   ],
   "source": [
    "float('0.0001')"
   ]
  },
  {
   "cell_type": "code",
   "execution_count": 23,
   "metadata": {},
   "outputs": [
    {
     "data": {
      "text/html": [
       "<div>\n",
       "<style scoped>\n",
       "    .dataframe tbody tr th:only-of-type {\n",
       "        vertical-align: middle;\n",
       "    }\n",
       "\n",
       "    .dataframe tbody tr th {\n",
       "        vertical-align: top;\n",
       "    }\n",
       "\n",
       "    .dataframe thead th {\n",
       "        text-align: right;\n",
       "    }\n",
       "</style>\n",
       "<table border=\"1\" class=\"dataframe\">\n",
       "  <thead>\n",
       "    <tr style=\"text-align: right;\">\n",
       "      <th></th>\n",
       "      <th>4000</th>\n",
       "      <th>8000</th>\n",
       "      <th>40000</th>\n",
       "      <th>80000</th>\n",
       "      <th>160000</th>\n",
       "    </tr>\n",
       "  </thead>\n",
       "  <tbody>\n",
       "    <tr>\n",
       "      <th>0.0001</th>\n",
       "      <td>0.000308752</td>\n",
       "      <td>0.059442</td>\n",
       "      <td>NaN</td>\n",
       "      <td>NaN</td>\n",
       "      <td>NaN</td>\n",
       "    </tr>\n",
       "    <tr>\n",
       "      <th>0.001</th>\n",
       "      <td>0.000302792</td>\n",
       "      <td>0.0790608</td>\n",
       "      <td>NaN</td>\n",
       "      <td>NaN</td>\n",
       "      <td>NaN</td>\n",
       "    </tr>\n",
       "    <tr>\n",
       "      <th>0.01</th>\n",
       "      <td>0.000301361</td>\n",
       "      <td>0.0983317</td>\n",
       "      <td>NaN</td>\n",
       "      <td>NaN</td>\n",
       "      <td>NaN</td>\n",
       "    </tr>\n",
       "    <tr>\n",
       "      <th>0.1</th>\n",
       "      <td>0.000311136</td>\n",
       "      <td>0.94617</td>\n",
       "      <td>NaN</td>\n",
       "      <td>NaN</td>\n",
       "      <td>NaN</td>\n",
       "    </tr>\n",
       "  </tbody>\n",
       "</table>\n",
       "</div>"
      ],
      "text/plain": [
       "               4000       8000 40000 80000 160000\n",
       "0.0001  0.000308752   0.059442   NaN   NaN    NaN\n",
       "0.001   0.000302792  0.0790608   NaN   NaN    NaN\n",
       "0.01    0.000301361  0.0983317   NaN   NaN    NaN\n",
       "0.1     0.000311136    0.94617   NaN   NaN    NaN"
      ]
     },
     "execution_count": 23,
     "metadata": {},
     "output_type": "execute_result"
    }
   ],
   "source": [
    "results_2"
   ]
  },
  {
   "cell_type": "code",
   "execution_count": null,
   "metadata": {},
   "outputs": [],
   "source": []
  },
  {
   "cell_type": "markdown",
   "metadata": {},
   "source": [
    "## CSR x Dense Vector"
   ]
  },
  {
   "cell_type": "code",
   "execution_count": null,
   "metadata": {},
   "outputs": [],
   "source": [
    "results_3 = pd.DataFrame(index=['0.0001', '0.001', '0.01', '0.1'], columns=['4000', '8000', '40000', '80000', '160000'])"
   ]
  },
  {
   "cell_type": "code",
   "execution_count": null,
   "metadata": {},
   "outputs": [],
   "source": [
    "def multiply_and_time(matrix_name, N, p, results):\n",
    "    if not matrix_name:\n",
    "        return\n",
    "    try:\n",
    "        x = load_matrix(matrix_name)\n",
    "        x_gpu = cp.sparse.csr_matrix(x) # Convert to Cupy GPU CSR matrix.\n",
    "        nonzeros = x_gpu.count_nonzero()\n",
    "        density = nonzeros / (x_gpu.shape[0] * x_gpu.shape[1])\n",
    "        print('\\tShape of {0} is {1} with density={2}'.format(matrix_name, x_gpu.shape, density))\n",
    "        N_x = x_gpu.shape[0]\n",
    "        y = scipy.sparse.random(N_x,N_x, float(p), \"csr\")\n",
    "        y = y.todense()\n",
    "        y = cp.array(y)\n",
    "\n",
    "        start = time.time()\n",
    "        x_gpu.dot(y)\n",
    "        end = time.time()\n",
    "        print(\"\\tTime for {0} = {1}\".format(matrix_name, end-start))\n",
    "        results[N][p] = end-start\n",
    "    except:\n",
    "        print(\"\\tCaught Cuda memory exception\")\n",
    "    return\n",
    "\n",
    "multiply_all(table, results_3, skip_computed=True)\n",
    "print(\"Done!\")"
   ]
  },
  {
   "cell_type": "code",
   "execution_count": null,
   "metadata": {},
   "outputs": [],
   "source": []
  },
  {
   "cell_type": "code",
   "execution_count": null,
   "metadata": {},
   "outputs": [],
   "source": []
  },
  {
   "cell_type": "code",
   "execution_count": null,
   "metadata": {},
   "outputs": [],
   "source": []
  },
  {
   "cell_type": "markdown",
   "metadata": {},
   "source": [
    "## Ignore Below: Testing & Playgrounding"
   ]
  },
  {
   "cell_type": "code",
   "execution_count": 126,
   "metadata": {},
   "outputs": [],
   "source": [
    "def multiply_and_time(matrix_name):\n",
    "    data = sio.loadmat(matrix_name)\n",
    "    P = data['Problem']\n",
    "    if matrix_name == 'SiO2.mat':\n",
    "        x = P[0][0][2] # For some reason, this file is stored differently.\n",
    "    elif matrix_name == 'net4-1.mat':\n",
    "        x = P[0][0][0]\n",
    "    else:\n",
    "        x = P[0][0][1]\n",
    "    x_gpu = cp.sparse.csr_matrix(x) # Convert to Cupy GPU CSR matrix.\n",
    "    nonzeros = x_gpu.count_nonzero()\n",
    "    density = nonzeros / (x_gpu.shape[0] * x_gpu.shape[1])\n",
    "    print('\\tShape of {0} is {1} with density={2}'.format(matrix_name, x_gpu.shape, density))\n",
    "    start = time.time()\n",
    "    x_gpu.dot(x_gpu.T)\n",
    "    end = time.time()\n",
    "    print(\"Time for {0} = {1}\".format(matrix_name, end-start))\n",
    "    return"
   ]
  },
  {
   "cell_type": "code",
   "execution_count": 127,
   "metadata": {},
   "outputs": [
    {
     "name": "stdout",
     "output_type": "stream",
     "text": [
      "Running multiply on  ['net4-1.mat', 'msc10848.mat']\n",
      "\tShape of net4-1.mat is (88343, 88343) with density=0.00031286200139439834\n",
      "Time for net4-1.mat = 8.725044250488281\n",
      "\tShape of msc10848.mat is (10848, 10848) with density=0.010450249519234952\n",
      "Time for msc10848.mat = 0.5050654411315918\n"
     ]
    }
   ],
   "source": [
    "# Get all files:\n",
    "matrices = [file for file in os.listdir('./') if '.mat' in file]\n",
    "print(\"Running multiply on \", matrices)\n",
    "for matrix_name in matrices:\n",
    "    multiply_and_time(matrix_name)"
   ]
  },
  {
   "cell_type": "code",
   "execution_count": 220,
   "metadata": {},
   "outputs": [
    {
     "name": "stdout",
     "output_type": "stream",
     "text": [
      "Time for pkustk14.mat\n",
      "4.782956838607788\n"
     ]
    },
    {
     "data": {
      "text/plain": [
       "<cupy.sparse.csr.csr_matrix at 0x7f1cddae3d68>"
      ]
     },
     "execution_count": 220,
     "metadata": {},
     "output_type": "execute_result"
    }
   ],
   "source": [
    "matrix1 = 'pkustk14.mat'\n",
    "matrix1_data = sio.loadmat(matrix1)\n",
    "P = matrix1_data['Problem']\n",
    "x = P[0][0][1]\n",
    "\n",
    "x_gpu = cp.sparse.csr_matrix(x)\n",
    "start = time.time()\n",
    "x_gpu.dot(x_gpu.T)\n",
    "end = time.time()\n",
    "print(\"Time for {0}\".format(matrix1))\n",
    "print(end-start)\n",
    "x_gpu"
   ]
  },
  {
   "cell_type": "code",
   "execution_count": 218,
   "metadata": {},
   "outputs": [
    {
     "data": {
      "text/plain": [
       "<153226x153226 sparse matrix of type '<class 'numpy.float64'>'\n",
       "\twith 2930882 stored elements in Compressed Sparse Column format>"
      ]
     },
     "execution_count": 218,
     "metadata": {},
     "output_type": "execute_result"
    }
   ],
   "source": [
    "matrix1_data['Problem'][0][0][2]"
   ]
  },
  {
   "cell_type": "code",
   "execution_count": 163,
   "metadata": {},
   "outputs": [
    {
     "data": {
      "text/plain": [
       "<8184x8184 sparse matrix of type '<class 'numpy.complex128'>'\n",
       "\twith 127762 stored elements in Compressed Sparse Column format>"
      ]
     },
     "execution_count": 163,
     "metadata": {},
     "output_type": "execute_result"
    }
   ],
   "source": [
    "x"
   ]
  },
  {
   "cell_type": "code",
   "execution_count": 83,
   "metadata": {},
   "outputs": [
    {
     "data": {
      "text/plain": [
       "array(11284032)"
      ]
     },
     "execution_count": 83,
     "metadata": {},
     "output_type": "execute_result"
    }
   ],
   "source": [
    "x.count_nonzero()"
   ]
  },
  {
   "cell_type": "code",
   "execution_count": 77,
   "metadata": {},
   "outputs": [
    {
     "data": {
      "text/plain": [
       "{'__header__': b'MATLAB 5.0 MAT-file, Platform: GLNXA64, Created on: Sat Sep  6 10:02:30 2008',\n",
       " '__version__': '1.0',\n",
       " '__globals__': [],\n",
       " 'Problem': array([[ (array(['Mittelmann/rail4284'],\n",
       "       dtype='<U19'), array(['Italian railways (H. Mittelmann test set)'],\n",
       "       dtype='<U41'), array([[1658]], dtype=uint16), array(['linear programming problem'],\n",
       "       dtype='<U26'), array(['2005'],\n",
       "       dtype='<U4'), array(['P. Nobili'],\n",
       "       dtype='<U9'), array(['J. Beasley'],\n",
       "       dtype='<U10'), <4284x1096894 sparse matrix of type '<class 'numpy.float64'>'\n",
       " \twith 11284032 stored elements in Compressed Sparse Column format>, array([[1],\n",
       "        [1],\n",
       "        [1],\n",
       "        ..., \n",
       "        [1],\n",
       "        [1],\n",
       "        [1]], dtype=uint8), array([[ (array([[0],\n",
       "        [0],\n",
       "        [0],\n",
       "        ..., \n",
       "        [2],\n",
       "        [2],\n",
       "        [2]], dtype=uint8), array([[0],\n",
       "        [0],\n",
       "        [0],\n",
       "        ..., \n",
       "        [0],\n",
       "        [0],\n",
       "        [0]], dtype=uint8), array([[ inf],\n",
       "        [ inf],\n",
       "        [ inf],\n",
       "        ..., \n",
       "        [ inf],\n",
       "        [ inf],\n",
       "        [ inf]]), array([[0]], dtype=uint8))]],\n",
       "       dtype=[('c', 'O'), ('lo', 'O'), ('hi', 'O'), ('z0', 'O')]), array(['Hans Mittelmann test set, http://plato.asu.edu/ftp/lptestset',\n",
       "        \"minimize c'*x, subject to A*x=b and lo <= x <= hi           \",\n",
       "        '                                                            ',\n",
       "        'RAIL: set covering problems from the Italian railroad, see  ',\n",
       "        'http://people.brunel.ac.uk/~mastjjb/jeb/orlib/scpinfo.html  '],\n",
       "       dtype='<U60'))]],\n",
       "       dtype=[('name', 'O'), ('title', 'O'), ('id', 'O'), ('kind', 'O'), ('date', 'O'), ('author', 'O'), ('ed', 'O'), ('A', 'O'), ('b', 'O'), ('aux', 'O'), ('notes', 'O')])}"
      ]
     },
     "execution_count": 77,
     "metadata": {},
     "output_type": "execute_result"
    }
   ],
   "source": [
    "matrix1_data"
   ]
  },
  {
   "cell_type": "code",
   "execution_count": 122,
   "metadata": {},
   "outputs": [
    {
     "data": {
      "text/html": [
       "<div>\n",
       "<style scoped>\n",
       "    .dataframe tbody tr th:only-of-type {\n",
       "        vertical-align: middle;\n",
       "    }\n",
       "\n",
       "    .dataframe tbody tr th {\n",
       "        vertical-align: top;\n",
       "    }\n",
       "\n",
       "    .dataframe thead th {\n",
       "        text-align: right;\n",
       "    }\n",
       "</style>\n",
       "<table border=\"1\" class=\"dataframe\">\n",
       "  <thead>\n",
       "    <tr style=\"text-align: right;\">\n",
       "      <th></th>\n",
       "      <th>4000</th>\n",
       "      <th>8000</th>\n",
       "      <th>20000</th>\n",
       "      <th>80000</th>\n",
       "      <th>160000</th>\n",
       "    </tr>\n",
       "  </thead>\n",
       "  <tbody>\n",
       "    <tr>\n",
       "      <th>0.0001</th>\n",
       "      <td></td>\n",
       "      <td></td>\n",
       "      <td></td>\n",
       "      <td></td>\n",
       "      <td></td>\n",
       "    </tr>\n",
       "    <tr>\n",
       "      <th>0.001</th>\n",
       "      <td></td>\n",
       "      <td></td>\n",
       "      <td></td>\n",
       "      <td></td>\n",
       "      <td></td>\n",
       "    </tr>\n",
       "    <tr>\n",
       "      <th>0.01</th>\n",
       "      <td></td>\n",
       "      <td>msc10848.mat</td>\n",
       "      <td></td>\n",
       "      <td></td>\n",
       "      <td></td>\n",
       "    </tr>\n",
       "    <tr>\n",
       "      <th>0.1</th>\n",
       "      <td></td>\n",
       "      <td></td>\n",
       "      <td></td>\n",
       "      <td></td>\n",
       "      <td></td>\n",
       "    </tr>\n",
       "  </tbody>\n",
       "</table>\n",
       "</div>"
      ],
      "text/plain": [
       "       4000          8000 20000 80000 160000\n",
       "0.0001                                      \n",
       "0.001                                       \n",
       "0.01         msc10848.mat                   \n",
       "0.1                                         "
      ]
     },
     "execution_count": 122,
     "metadata": {},
     "output_type": "execute_result"
    }
   ],
   "source": []
  },
  {
   "cell_type": "code",
   "execution_count": null,
   "metadata": {},
   "outputs": [],
   "source": []
  }
 ],
 "metadata": {
  "kernelspec": {
   "display_name": "Environment (conda_anaconda3)",
   "language": "python",
   "name": "conda_anaconda3"
  },
  "language_info": {
   "codemirror_mode": {
    "name": "ipython",
    "version": 3
   },
   "file_extension": ".py",
   "mimetype": "text/x-python",
   "name": "python",
   "nbconvert_exporter": "python",
   "pygments_lexer": "ipython3",
   "version": "3.6.4"
  }
 },
 "nbformat": 4,
 "nbformat_minor": 2
}
