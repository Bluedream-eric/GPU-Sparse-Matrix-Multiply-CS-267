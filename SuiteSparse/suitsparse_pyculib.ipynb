{
 "cells": [
  {
   "cell_type": "code",
   "execution_count": 2,
   "metadata": {},
   "outputs": [
    {
     "name": "stderr",
     "output_type": "stream",
     "text": [
      "/home/ubuntu/anaconda3/lib/python3.6/site-packages/matplotlib/__init__.py:1067: UserWarning: Duplicate key in file \"/home/ubuntu/.config/matplotlib/matplotlibrc\", line #2\n",
      "  (fname, cnt))\n",
      "/home/ubuntu/anaconda3/lib/python3.6/site-packages/matplotlib/__init__.py:1067: UserWarning: Duplicate key in file \"/home/ubuntu/.config/matplotlib/matplotlibrc\", line #3\n",
      "  (fname, cnt))\n"
     ]
    }
   ],
   "source": [
    "from pyculib.sparse import Sparse\n",
    "import pyculib.sparse as sp\n",
    "import numpy as np\n",
    "import scipy\n",
    "import time\n",
    "import pandas as pd\n",
    "import scipy.io as sio"
   ]
  },
  {
   "cell_type": "code",
   "execution_count": 64,
   "metadata": {},
   "outputs": [
    {
     "data": {
      "text/html": [
       "<div>\n",
       "<style scoped>\n",
       "    .dataframe tbody tr th:only-of-type {\n",
       "        vertical-align: middle;\n",
       "    }\n",
       "\n",
       "    .dataframe tbody tr th {\n",
       "        vertical-align: top;\n",
       "    }\n",
       "\n",
       "    .dataframe thead th {\n",
       "        text-align: right;\n",
       "    }\n",
       "</style>\n",
       "<table border=\"1\" class=\"dataframe\">\n",
       "  <thead>\n",
       "    <tr style=\"text-align: right;\">\n",
       "      <th></th>\n",
       "      <th>4000</th>\n",
       "      <th>8000</th>\n",
       "      <th>40000</th>\n",
       "      <th>80000</th>\n",
       "      <th>160000</th>\n",
       "    </tr>\n",
       "  </thead>\n",
       "  <tbody>\n",
       "    <tr>\n",
       "      <th>0.0001</th>\n",
       "      <td>bcsstm24.mat</td>\n",
       "      <td>bcsstm38.mat</td>\n",
       "      <td>cond-mat-2005.mat</td>\n",
       "      <td>net4-1.mat</td>\n",
       "      <td>para-4.mat</td>\n",
       "    </tr>\n",
       "    <tr>\n",
       "      <th>0.001</th>\n",
       "      <td>c-24.mat</td>\n",
       "      <td>c-39.mat</td>\n",
       "      <td>bbmat.mat</td>\n",
       "      <td>consph.mat</td>\n",
       "      <td>pkustk14.mat</td>\n",
       "    </tr>\n",
       "    <tr>\n",
       "      <th>0.01</th>\n",
       "      <td>crystk01.mat</td>\n",
       "      <td>msc10848.mat</td>\n",
       "      <td>TSOPF_RS_b2383_c1.mat</td>\n",
       "      <td></td>\n",
       "      <td></td>\n",
       "    </tr>\n",
       "    <tr>\n",
       "      <th>0.1</th>\n",
       "      <td>heart1.mat</td>\n",
       "      <td>human_gene2.mat</td>\n",
       "      <td></td>\n",
       "      <td></td>\n",
       "      <td></td>\n",
       "    </tr>\n",
       "  </tbody>\n",
       "</table>\n",
       "</div>"
      ],
      "text/plain": [
       "                4000             8000                  40000       80000  \\\n",
       "0.0001  bcsstm24.mat     bcsstm38.mat      cond-mat-2005.mat  net4-1.mat   \n",
       "0.001       c-24.mat         c-39.mat              bbmat.mat  consph.mat   \n",
       "0.01    crystk01.mat     msc10848.mat  TSOPF_RS_b2383_c1.mat               \n",
       "0.1       heart1.mat  human_gene2.mat                                      \n",
       "\n",
       "              160000  \n",
       "0.0001    para-4.mat  \n",
       "0.001   pkustk14.mat  \n",
       "0.01                  \n",
       "0.1                   "
      ]
     },
     "execution_count": 64,
     "metadata": {},
     "output_type": "execute_result"
    }
   ],
   "source": [
    "# Construct the table of reference to map N/density to the file names.\n",
    "table = pd.DataFrame(index=['0.0001', '0.001', '0.01', '0.1'], columns=['4000', '8000', '40000', '80000', '160000'])\n",
    "results = pd.DataFrame(index=['0.0001', '0.001', '0.01', '0.1'], columns=['4000', '8000', '40000', '80000', '160000'])\n",
    "table['4000']['0.0001'] = 'bcsstm24.mat'\n",
    "table['4000']['0.001'] = 'c-24.mat'\n",
    "table['4000']['0.01'] = 'crystk01.mat'\n",
    "table['4000']['0.1'] = 'heart1.mat'\n",
    "table['8000']['0.0001'] = 'bcsstm38.mat'\n",
    "table['8000']['0.001'] = 'c-39.mat'\n",
    "table['8000']['0.01'] = 'msc10848.mat'\n",
    "table['8000']['0.1'] = 'human_gene2.mat' # previously 'TSC_OPF_1047.mat' \n",
    "table['40000']['0.0001'] = 'cond-mat-2005.mat'\n",
    "table['40000']['0.001'] = 'bbmat.mat'\n",
    "table['40000']['0.01'] = 'TSOPF_RS_b2383_c1.mat'\n",
    "table['40000']['0.1'] = '' # Does not exist.\n",
    "table['80000']['0.0001'] = 'net4-1.mat'\n",
    "table['80000']['0.001'] = 'consph.mat'\n",
    "table['80000']['0.01'] = '' # Does not exist\n",
    "table['80000']['0.1'] = '' # Does not exist\n",
    "table['160000']['0.0001'] = 'para-4.mat'\n",
    "table['160000']['0.001'] = 'pkustk14.mat'\n",
    "table['160000']['0.01'] = '' # Does not exist\n",
    "table['160000']['0.1'] = '' # Does not exist\n",
    "table"
   ]
  },
  {
   "cell_type": "code",
   "execution_count": 65,
   "metadata": {},
   "outputs": [],
   "source": [
    "# Handle all the edge cases for all files\n",
    "def load_matrix(matrix_name):\n",
    "    data = sio.loadmat(matrix_name)\n",
    "    P = data['Problem']\n",
    "    zeros = {'net4-1.mat'}\n",
    "    twos = {'consph.mat','human_gene2.mat','TSOPF_RS_b2383_c1.mat','cond-mat-2005.mat', 'para-4.mat'}\n",
    "    fours = {'c-24.mat','c-39.mat'}\n",
    "    if matrix_name in zeros:\n",
    "        x = P[0][0][0]\n",
    "    elif matrix_name in twos:\n",
    "        x = P[0][0][2]\n",
    "    elif matrix_name in fours:\n",
    "        x = P[0][0][4]\n",
    "    else:\n",
    "        x = P[0][0][1]\n",
    "    return x\n",
    "\n",
    "def multiply_and_time(matrix_name, N, p, results):\n",
    "    if not matrix_name:\n",
    "        return\n",
    "    s = sp.Sparse()\n",
    "    a = load_matrix(matrix_name)\n",
    "    b = a[:]\n",
    "    ap, bp = sp.csr_matrix(a), sp.csr_matrix(b)\n",
    "    start = time.time()\n",
    "    sp.Sparse.csrgemm_ez(s, ap, bp)\n",
    "    end = time.time()\n",
    "    print(\"\\tTime for {0} = {1}\".format(matrix_name, end-start))\n",
    "    results[N][p] = end-start\n",
    "    return\n",
    "\n",
    "\n",
    "def multiply_all(table, results, reverse=False, skip_computed=False):\n",
    "    N_list = ['4000', '8000', '40000', '80000', '160000']\n",
    "    p_list = ['0.0001', '0.001', '0.01', '0.1']\n",
    "    if reverse:\n",
    "        N_list = list(reversed(N_list))\n",
    "        p_list = list(reversed(p_list))\n",
    "    for N in N_list:\n",
    "        for p in p_list:\n",
    "            print(\"For N={0}, p={1}\".format(N,p))\n",
    "            if not results.isna()[N][p] and skip_computed:\n",
    "                print(\"\\t Skipping, already computed.\")\n",
    "            else:\n",
    "                try:\n",
    "                    multiply_and_time(table[N][p], N, p, results)\n",
    "                except:\n",
    "                    print(\"\\tException caught: CUDA_ERROR_OUT_OF_MEMORY Error!\")\n",
    "            "
   ]
  },
  {
   "cell_type": "code",
   "execution_count": 68,
   "metadata": {},
   "outputs": [
    {
     "name": "stdout",
     "output_type": "stream",
     "text": [
      "For N=4000, p=0.0001\n",
      "\t Skipping, already computed.\n",
      "For N=4000, p=0.001\n",
      "\t Skipping, already computed.\n",
      "For N=4000, p=0.01\n",
      "\t Skipping, already computed.\n",
      "For N=4000, p=0.1\n",
      "\t Skipping, already computed.\n",
      "For N=8000, p=0.0001\n",
      "\t Skipping, already computed.\n",
      "For N=8000, p=0.001\n",
      "\t Skipping, already computed.\n",
      "For N=8000, p=0.01\n",
      "\t Skipping, already computed.\n",
      "For N=8000, p=0.1\n",
      "\t Skipping, already computed.\n",
      "For N=40000, p=0.0001\n",
      "\t Skipping, already computed.\n",
      "For N=40000, p=0.001\n",
      "\t Skipping, already computed.\n",
      "For N=40000, p=0.01\n",
      "\t Skipping, already computed.\n",
      "For N=40000, p=0.1\n",
      "For N=80000, p=0.0001\n",
      "\tException caught: CUDA_ERROR_OUT_OF_MEMORY Error!\n",
      "For N=80000, p=0.001\n",
      "\t Skipping, already computed.\n",
      "For N=80000, p=0.01\n",
      "For N=80000, p=0.1\n",
      "For N=160000, p=0.0001\n",
      "\t Skipping, already computed.\n",
      "For N=160000, p=0.001\n",
      "\t Skipping, already computed.\n",
      "For N=160000, p=0.01\n",
      "For N=160000, p=0.1\n",
      "Done!\n"
     ]
    }
   ],
   "source": [
    "multiply_all(table, results, reverse=False, skip_computed=True)\n",
    "print(\"Done!\")"
   ]
  },
  {
   "cell_type": "code",
   "execution_count": 69,
   "metadata": {},
   "outputs": [
    {
     "data": {
      "text/html": [
       "<div>\n",
       "<style scoped>\n",
       "    .dataframe tbody tr th:only-of-type {\n",
       "        vertical-align: middle;\n",
       "    }\n",
       "\n",
       "    .dataframe tbody tr th {\n",
       "        vertical-align: top;\n",
       "    }\n",
       "\n",
       "    .dataframe thead th {\n",
       "        text-align: right;\n",
       "    }\n",
       "</style>\n",
       "<table border=\"1\" class=\"dataframe\">\n",
       "  <thead>\n",
       "    <tr style=\"text-align: right;\">\n",
       "      <th></th>\n",
       "      <th>4000</th>\n",
       "      <th>8000</th>\n",
       "      <th>40000</th>\n",
       "      <th>80000</th>\n",
       "      <th>160000</th>\n",
       "    </tr>\n",
       "  </thead>\n",
       "  <tbody>\n",
       "    <tr>\n",
       "      <th>0.0001</th>\n",
       "      <td>0.00119758</td>\n",
       "      <td>0.00169945</td>\n",
       "      <td>0.297454</td>\n",
       "      <td>NaN</td>\n",
       "      <td>2.43103</td>\n",
       "    </tr>\n",
       "    <tr>\n",
       "      <th>0.001</th>\n",
       "      <td>0.0341461</td>\n",
       "      <td>0.097985</td>\n",
       "      <td>0.169567</td>\n",
       "      <td>0.820481</td>\n",
       "      <td>3.43052</td>\n",
       "    </tr>\n",
       "    <tr>\n",
       "      <th>0.01</th>\n",
       "      <td>0.0527699</td>\n",
       "      <td>0.411427</td>\n",
       "      <td>0.446058</td>\n",
       "      <td>NaN</td>\n",
       "      <td>NaN</td>\n",
       "    </tr>\n",
       "    <tr>\n",
       "      <th>0.1</th>\n",
       "      <td>1.15618</td>\n",
       "      <td>69.3924</td>\n",
       "      <td>NaN</td>\n",
       "      <td>NaN</td>\n",
       "      <td>NaN</td>\n",
       "    </tr>\n",
       "  </tbody>\n",
       "</table>\n",
       "</div>"
      ],
      "text/plain": [
       "              4000        8000     40000     80000   160000\n",
       "0.0001  0.00119758  0.00169945  0.297454       NaN  2.43103\n",
       "0.001    0.0341461    0.097985  0.169567  0.820481  3.43052\n",
       "0.01     0.0527699    0.411427  0.446058       NaN      NaN\n",
       "0.1        1.15618     69.3924       NaN       NaN      NaN"
      ]
     },
     "execution_count": 69,
     "metadata": {},
     "output_type": "execute_result"
    }
   ],
   "source": [
    "results"
   ]
  },
  {
   "cell_type": "markdown",
   "metadata": {},
   "source": [
    "## CSR x Dense Matrix"
   ]
  },
  {
   "cell_type": "code",
   "execution_count": 55,
   "metadata": {},
   "outputs": [],
   "source": [
    "results_2 = pd.DataFrame(index=['0.0001', '0.001', '0.01', '0.1'], columns=['4000', '8000', '40000', '80000', '160000'])"
   ]
  },
  {
   "cell_type": "code",
   "execution_count": 58,
   "metadata": {},
   "outputs": [
    {
     "name": "stdout",
     "output_type": "stream",
     "text": [
      "For N=4000, p=0.0001\n",
      "\t Skipping, already computed.\n",
      "For N=4000, p=0.001\n",
      "\t Skipping, already computed.\n",
      "For N=4000, p=0.01\n",
      "\t Skipping, already computed.\n",
      "For N=4000, p=0.1\n",
      "\t Skipping, already computed.\n",
      "For N=8000, p=0.0001\n",
      "\t Skipping, already computed.\n",
      "For N=8000, p=0.001\n",
      "\t Skipping, already computed.\n",
      "For N=8000, p=0.01\n",
      "\t Skipping, already computed.\n",
      "For N=8000, p=0.1\n",
      "\tException caught: CUDA_ERROR_OUT_OF_MEMORY Error!\n",
      "Done!\n"
     ]
    }
   ],
   "source": [
    "def multiply_all(table, results, reverse=False, skip_computed=False):\n",
    "    N_list = ['4000', '8000']\n",
    "    p_list = ['0.0001', '0.001', '0.01', '0.1']\n",
    "    if reverse:\n",
    "        N_list = list(reversed(N_list))\n",
    "        p_list = list(reversed(p_list))\n",
    "    for N in N_list:\n",
    "        for p in p_list:\n",
    "            print(\"For N={0}, p={1}\".format(N,p))\n",
    "            if not results.isna()[N][p] and skip_computed:\n",
    "                print(\"\\t Skipping, already computed.\")\n",
    "            else:\n",
    "                try:\n",
    "                    multiply_and_time(table[N][p], N, p, results)\n",
    "                except:\n",
    "                    print(\"\\tException caught: CUDA_ERROR_OUT_OF_MEMORY Error!\")\n",
    "\n",
    "def multiply_and_time(matrix_name, N, p, results):\n",
    "    if not matrix_name:\n",
    "        return\n",
    "    s = sp.Sparse()\n",
    "    a = load_matrix(matrix_name)\n",
    "    N_x = a.shape[0]\n",
    "    b = scipy.sparse.random(N_x,N_x, 0.1, \"csr\")\n",
    "    ap, bp = sp.csr_matrix(a), sp.csr_matrix(b)\n",
    "    start = time.time()\n",
    "    sp.Sparse.csrgemm_ez(s, ap, bp)\n",
    "    end = time.time()\n",
    "    print(\"\\tTime for {0} = {1}\".format(matrix_name, end-start))\n",
    "    results[N][p] = end-start\n",
    "    return\n",
    "\n",
    "\n",
    "\n",
    "multiply_all(table, results_2, skip_computed=True)\n",
    "print(\"Done!\")"
   ]
  },
  {
   "cell_type": "code",
   "execution_count": 57,
   "metadata": {},
   "outputs": [
    {
     "data": {
      "text/html": [
       "<div>\n",
       "<style scoped>\n",
       "    .dataframe tbody tr th:only-of-type {\n",
       "        vertical-align: middle;\n",
       "    }\n",
       "\n",
       "    .dataframe tbody tr th {\n",
       "        vertical-align: top;\n",
       "    }\n",
       "\n",
       "    .dataframe thead th {\n",
       "        text-align: right;\n",
       "    }\n",
       "</style>\n",
       "<table border=\"1\" class=\"dataframe\">\n",
       "  <thead>\n",
       "    <tr style=\"text-align: right;\">\n",
       "      <th></th>\n",
       "      <th>4000</th>\n",
       "      <th>8000</th>\n",
       "      <th>40000</th>\n",
       "      <th>80000</th>\n",
       "      <th>160000</th>\n",
       "    </tr>\n",
       "  </thead>\n",
       "  <tbody>\n",
       "    <tr>\n",
       "      <th>0.0001</th>\n",
       "      <td>0.0328615</td>\n",
       "      <td>0.0369437</td>\n",
       "      <td>NaN</td>\n",
       "      <td>NaN</td>\n",
       "      <td>NaN</td>\n",
       "    </tr>\n",
       "    <tr>\n",
       "      <th>0.001</th>\n",
       "      <td>0.170958</td>\n",
       "      <td>0.287254</td>\n",
       "      <td>NaN</td>\n",
       "      <td>NaN</td>\n",
       "      <td>NaN</td>\n",
       "    </tr>\n",
       "    <tr>\n",
       "      <th>0.01</th>\n",
       "      <td>0.186676</td>\n",
       "      <td>1.39418</td>\n",
       "      <td>NaN</td>\n",
       "      <td>NaN</td>\n",
       "      <td>NaN</td>\n",
       "    </tr>\n",
       "    <tr>\n",
       "      <th>0.1</th>\n",
       "      <td>0.485632</td>\n",
       "      <td>NaN</td>\n",
       "      <td>NaN</td>\n",
       "      <td>NaN</td>\n",
       "      <td>NaN</td>\n",
       "    </tr>\n",
       "  </tbody>\n",
       "</table>\n",
       "</div>"
      ],
      "text/plain": [
       "             4000       8000 40000 80000 160000\n",
       "0.0001  0.0328615  0.0369437   NaN   NaN    NaN\n",
       "0.001    0.170958   0.287254   NaN   NaN    NaN\n",
       "0.01     0.186676    1.39418   NaN   NaN    NaN\n",
       "0.1      0.485632        NaN   NaN   NaN    NaN"
      ]
     },
     "execution_count": 57,
     "metadata": {},
     "output_type": "execute_result"
    }
   ],
   "source": [
    "results_2"
   ]
  },
  {
   "cell_type": "markdown",
   "metadata": {},
   "source": [
    "## CSR x Dense Vector"
   ]
  },
  {
   "cell_type": "code",
   "execution_count": 61,
   "metadata": {},
   "outputs": [],
   "source": [
    "results_3 = pd.DataFrame(index=['0.0001', '0.001', '0.01', '0.1'], columns=['4000', '8000', '40000', '80000', '160000'])"
   ]
  },
  {
   "cell_type": "code",
   "execution_count": 62,
   "metadata": {},
   "outputs": [
    {
     "name": "stdout",
     "output_type": "stream",
     "text": [
      "For N=4000, p=0.0001\n",
      "\tTime for bcsstm24.mat = 0.0009505748748779297\n",
      "For N=4000, p=0.001\n",
      "\tTime for c-24.mat = 0.0010235309600830078\n",
      "For N=4000, p=0.01\n",
      "\tTime for crystk01.mat = 0.0027534961700439453\n",
      "For N=4000, p=0.1\n",
      "\tTime for heart1.mat = 0.006175994873046875\n",
      "For N=8000, p=0.0001\n",
      "\tTime for bcsstm38.mat = 0.0008571147918701172\n",
      "For N=8000, p=0.001\n",
      "\tTime for c-39.mat = 0.001371622085571289\n",
      "For N=8000, p=0.01\n",
      "\tTime for msc10848.mat = 0.004664182662963867\n",
      "For N=8000, p=0.1\n",
      "\tTime for human_gene2.mat = 0.05570673942565918\n",
      "For N=40000, p=0.0001\n",
      "\tTime for cond-mat-2005.mat = 0.021091222763061523\n",
      "For N=40000, p=0.001\n",
      "\tTime for bbmat.mat = 0.0059375762939453125\n",
      "For N=40000, p=0.01\n",
      "\tTime for TSOPF_RS_b2383_c1.mat = 0.04684591293334961\n",
      "For N=40000, p=0.1\n",
      "For N=80000, p=0.0001\n",
      "\tTime for net4-1.mat = 0.010743379592895508\n",
      "For N=80000, p=0.001\n",
      "\tTime for consph.mat = 0.0151519775390625\n",
      "For N=80000, p=0.01\n",
      "For N=80000, p=0.1\n",
      "For N=160000, p=0.0001\n",
      "\tTime for para-4.mat = 0.02016901969909668\n",
      "For N=160000, p=0.001\n",
      "\tTime for pkustk14.mat = 0.04949522018432617\n",
      "For N=160000, p=0.01\n",
      "For N=160000, p=0.1\n",
      "Done!\n"
     ]
    }
   ],
   "source": [
    "def multiply_all(table, results, reverse=False, skip_computed=False):\n",
    "    N_list = ['4000', '8000', '40000', '80000', '160000']\n",
    "    p_list = ['0.0001', '0.001', '0.01', '0.1']\n",
    "    if reverse:\n",
    "        N_list = list(reversed(N_list))\n",
    "        p_list = list(reversed(p_list))\n",
    "    for N in N_list:\n",
    "        for p in p_list:\n",
    "            print(\"For N={0}, p={1}\".format(N,p))\n",
    "            if not results.isna()[N][p] and skip_computed:\n",
    "                print(\"\\t Skipping, already computed.\")\n",
    "            else:\n",
    "                multiply_and_time(table[N][p], N, p, results)\n",
    "\n",
    "\n",
    "def multiply_and_time(matrix_name, N, p, results):\n",
    "    if not matrix_name:\n",
    "        return\n",
    "    s = sp.Sparse()\n",
    "    a = load_matrix(matrix_name)\n",
    "    N_x = a.shape[0]\n",
    "    b = scipy.sparse.random(N_x,1, 0.1, \"csr\")\n",
    "    ap, bp = sp.csr_matrix(a), sp.csr_matrix(b)\n",
    "    start = time.time()\n",
    "    sp.Sparse.csrgemm_ez(s, ap, bp)\n",
    "    end = time.time()\n",
    "    print(\"\\tTime for {0} = {1}\".format(matrix_name, end-start))\n",
    "    results[N][p] = end-start\n",
    "    return\n",
    "\n",
    "\n",
    "\n",
    "multiply_all(table, results_3, skip_computed=True)\n",
    "print(\"Done!\")"
   ]
  },
  {
   "cell_type": "code",
   "execution_count": 63,
   "metadata": {},
   "outputs": [
    {
     "data": {
      "text/html": [
       "<div>\n",
       "<style scoped>\n",
       "    .dataframe tbody tr th:only-of-type {\n",
       "        vertical-align: middle;\n",
       "    }\n",
       "\n",
       "    .dataframe tbody tr th {\n",
       "        vertical-align: top;\n",
       "    }\n",
       "\n",
       "    .dataframe thead th {\n",
       "        text-align: right;\n",
       "    }\n",
       "</style>\n",
       "<table border=\"1\" class=\"dataframe\">\n",
       "  <thead>\n",
       "    <tr style=\"text-align: right;\">\n",
       "      <th></th>\n",
       "      <th>4000</th>\n",
       "      <th>8000</th>\n",
       "      <th>40000</th>\n",
       "      <th>80000</th>\n",
       "      <th>160000</th>\n",
       "    </tr>\n",
       "  </thead>\n",
       "  <tbody>\n",
       "    <tr>\n",
       "      <th>0.0001</th>\n",
       "      <td>0.000950575</td>\n",
       "      <td>0.000857115</td>\n",
       "      <td>0.0210912</td>\n",
       "      <td>0.0107434</td>\n",
       "      <td>0.020169</td>\n",
       "    </tr>\n",
       "    <tr>\n",
       "      <th>0.001</th>\n",
       "      <td>0.00102353</td>\n",
       "      <td>0.00137162</td>\n",
       "      <td>0.00593758</td>\n",
       "      <td>0.015152</td>\n",
       "      <td>0.0494952</td>\n",
       "    </tr>\n",
       "    <tr>\n",
       "      <th>0.01</th>\n",
       "      <td>0.0027535</td>\n",
       "      <td>0.00466418</td>\n",
       "      <td>0.0468459</td>\n",
       "      <td>NaN</td>\n",
       "      <td>NaN</td>\n",
       "    </tr>\n",
       "    <tr>\n",
       "      <th>0.1</th>\n",
       "      <td>0.00617599</td>\n",
       "      <td>0.0557067</td>\n",
       "      <td>NaN</td>\n",
       "      <td>NaN</td>\n",
       "      <td>NaN</td>\n",
       "    </tr>\n",
       "  </tbody>\n",
       "</table>\n",
       "</div>"
      ],
      "text/plain": [
       "               4000         8000       40000      80000     160000\n",
       "0.0001  0.000950575  0.000857115   0.0210912  0.0107434   0.020169\n",
       "0.001    0.00102353   0.00137162  0.00593758   0.015152  0.0494952\n",
       "0.01      0.0027535   0.00466418   0.0468459        NaN        NaN\n",
       "0.1      0.00617599    0.0557067         NaN        NaN        NaN"
      ]
     },
     "execution_count": 63,
     "metadata": {},
     "output_type": "execute_result"
    }
   ],
   "source": [
    "results_3"
   ]
  },
  {
   "cell_type": "code",
   "execution_count": null,
   "metadata": {},
   "outputs": [],
   "source": []
  },
  {
   "cell_type": "code",
   "execution_count": null,
   "metadata": {},
   "outputs": [],
   "source": []
  },
  {
   "cell_type": "code",
   "execution_count": null,
   "metadata": {},
   "outputs": [],
   "source": []
  },
  {
   "cell_type": "markdown",
   "metadata": {},
   "source": [
    "### Ignore everything below. Used for testing & playgrounding."
   ]
  },
  {
   "cell_type": "code",
   "execution_count": 27,
   "metadata": {},
   "outputs": [
    {
     "name": "stdout",
     "output_type": "stream",
     "text": [
      "Time for TSOPF_RS_b2383_c1.mat\n",
      "0.5271131992340088\n"
     ]
    }
   ],
   "source": [
    "matrix1 = 'TSOPF_RS_b2383_c1.mat'\n",
    "matrix1_data = sio.loadmat(matrix1)\n",
    "P = matrix1_data['Problem']\n",
    "a = P[0][0][2]\n",
    "b = a[:]\n",
    "c = a[:]\n",
    "s = sp.Sparse()\n",
    "a_desc = s.matdescr(indexbase=0,matrixtype='G')\n",
    "b_desc = s.matdescr(indexbase=0,matrixtype='G')\n",
    "c_desc = s.matdescr(indexbase=0,matrixtype='G')\n",
    "\n",
    "N = a.shape[0]\n",
    "ap, bp, cp = sp.csr_matrix(a), sp.csr_matrix(b), sp.csr_matrix(c)\n",
    "transA, transB, transC = 'N', 'N', 'N'\n",
    "#sp.Sparse.csrmm2(s, transA, transB, N, N, N, len(a.data), 1.0, a_desc, ap.data, ap.indptr, ap.indices, b, N, 1.0, c, N)\n",
    "#sp.Sparse.csrgemm(s, transA, transB, N, N, N, a_desc, len(a.data), ap.data, ap.indptr, ap.indices, b_desc, len(b.data), bp.data, bp.indptr, bp.indices, c_desc, cp.data, cp.indptr, cp.indices)\n",
    "\n",
    "start = time.time()\n",
    "sp.Sparse.csrgemm_ez(s, ap, bp)\n",
    "end = time.time()\n",
    "print(\"Time for {0}\".format(matrix1))\n",
    "print(end-start)"
   ]
  },
  {
   "cell_type": "code",
   "execution_count": 11,
   "metadata": {},
   "outputs": [
    {
     "data": {
      "text/plain": [
       "(8032, 8032)"
      ]
     },
     "execution_count": 11,
     "metadata": {},
     "output_type": "execute_result"
    }
   ],
   "source": [
    "pkustk14.mat"
   ]
  },
  {
   "cell_type": "code",
   "execution_count": 28,
   "metadata": {},
   "outputs": [
    {
     "name": "stdout",
     "output_type": "stream",
     "text": [
      "Time for pkustk14.mat\n",
      "3.433053970336914\n"
     ]
    }
   ],
   "source": [
    "matrix1 = 'pkustk14.mat'\n",
    "matrix1_data = sio.loadmat(matrix1)\n",
    "P = matrix1_data['Problem']\n",
    "a = P[0][0][1]\n",
    "b = a[:]\n",
    "c = a[:]\n",
    "s = sp.Sparse()\n",
    "a_desc = s.matdescr(indexbase=0,matrixtype='G')\n",
    "b_desc = s.matdescr(indexbase=0,matrixtype='G')\n",
    "c_desc = s.matdescr(indexbase=0,matrixtype='G')\n",
    "\n",
    "N = a.shape[0]\n",
    "ap, bp, cp = sp.csr_matrix(a), sp.csr_matrix(b), sp.csr_matrix(c)\n",
    "transA, transB, transC = 'N', 'N', 'N'\n",
    "sp.Sparse.csrgemm(s, transA, transB, N, N, N, a_desc, len(a.data), ap.data, ap.indptr, ap.indices, b_desc, len(b.data), bp.data, bp.indptr, bp.indices, c_desc, cp.data, cp.indptr, cp.indices)\n",
    "start = time.time()\n",
    "sp.Sparse.csrgemm_ez(s, ap, bp)\n",
    "end = time.time()\n",
    "print(\"Time for {0}\".format(matrix1))\n",
    "print(end-start)"
   ]
  },
  {
   "cell_type": "code",
   "execution_count": 32,
   "metadata": {},
   "outputs": [
    {
     "ename": "AttributeError",
     "evalue": "'CudaCSRMatrix' object has no attribute 'nonzeros'",
     "output_type": "error",
     "traceback": [
      "\u001b[0;31m---------------------------------------------------------------------------\u001b[0m",
      "\u001b[0;31mAttributeError\u001b[0m                            Traceback (most recent call last)",
      "\u001b[0;32m<ipython-input-32-efef5c2457f5>\u001b[0m in \u001b[0;36m<module>\u001b[0;34m()\u001b[0m\n\u001b[0;32m----> 1\u001b[0;31m \u001b[0map\u001b[0m\u001b[0;34m.\u001b[0m\u001b[0mnonzeros\u001b[0m\u001b[0;34m(\u001b[0m\u001b[0;34m)\u001b[0m\u001b[0;34m\u001b[0m\u001b[0m\n\u001b[0m",
      "\u001b[0;31mAttributeError\u001b[0m: 'CudaCSRMatrix' object has no attribute 'nonzeros'"
     ]
    }
   ],
   "source": [
    "ap.nonzeros()"
   ]
  },
  {
   "cell_type": "code",
   "execution_count": null,
   "metadata": {},
   "outputs": [],
   "source": []
  }
 ],
 "metadata": {
  "kernelspec": {
   "display_name": "Environment (conda_anaconda3)",
   "language": "python",
   "name": "conda_anaconda3"
  },
  "language_info": {
   "codemirror_mode": {
    "name": "ipython",
    "version": 3
   },
   "file_extension": ".py",
   "mimetype": "text/x-python",
   "name": "python",
   "nbconvert_exporter": "python",
   "pygments_lexer": "ipython3",
   "version": "3.6.4"
  }
 },
 "nbformat": 4,
 "nbformat_minor": 2
}
