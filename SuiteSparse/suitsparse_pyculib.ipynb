{
 "cells": [
  {
   "cell_type": "code",
   "execution_count": 7,
   "metadata": {},
   "outputs": [],
   "source": [
    "from pyculib.sparse import Sparse\n",
    "import pyculib.sparse as sp\n",
    "import numpy as np\n",
    "import scipy\n",
    "import time\n",
    "import pandas as pd\n",
    "import scipy.io as sio"
   ]
  },
  {
   "cell_type": "code",
   "execution_count": 70,
   "metadata": {},
   "outputs": [
    {
     "data": {
      "text/html": [
       "<div>\n",
       "<style scoped>\n",
       "    .dataframe tbody tr th:only-of-type {\n",
       "        vertical-align: middle;\n",
       "    }\n",
       "\n",
       "    .dataframe tbody tr th {\n",
       "        vertical-align: top;\n",
       "    }\n",
       "\n",
       "    .dataframe thead th {\n",
       "        text-align: right;\n",
       "    }\n",
       "</style>\n",
       "<table border=\"1\" class=\"dataframe\">\n",
       "  <thead>\n",
       "    <tr style=\"text-align: right;\">\n",
       "      <th></th>\n",
       "      <th>4000</th>\n",
       "      <th>8000</th>\n",
       "      <th>40000</th>\n",
       "      <th>80000</th>\n",
       "      <th>160000</th>\n",
       "    </tr>\n",
       "  </thead>\n",
       "  <tbody>\n",
       "    <tr>\n",
       "      <th>0.0001</th>\n",
       "      <td>bcsstm24.mat</td>\n",
       "      <td>bcsstm38.mat</td>\n",
       "      <td>cond-mat-2005.mat</td>\n",
       "      <td>net4-1.mat</td>\n",
       "      <td>para-4.mat</td>\n",
       "    </tr>\n",
       "    <tr>\n",
       "      <th>0.001</th>\n",
       "      <td>c-24.mat</td>\n",
       "      <td>c-39.mat</td>\n",
       "      <td>bbmat.mat</td>\n",
       "      <td>consph.mat</td>\n",
       "      <td>pkustk14.mat</td>\n",
       "    </tr>\n",
       "    <tr>\n",
       "      <th>0.01</th>\n",
       "      <td>crystk01.mat</td>\n",
       "      <td>msc10848.mat</td>\n",
       "      <td>TSOPF_RS_b2383_c1.mat</td>\n",
       "      <td></td>\n",
       "      <td></td>\n",
       "    </tr>\n",
       "    <tr>\n",
       "      <th>0.1</th>\n",
       "      <td>heart1.mat</td>\n",
       "      <td>human_gene2.mat</td>\n",
       "      <td></td>\n",
       "      <td></td>\n",
       "      <td></td>\n",
       "    </tr>\n",
       "  </tbody>\n",
       "</table>\n",
       "</div>"
      ],
      "text/plain": [
       "                4000             8000                  40000       80000  \\\n",
       "0.0001  bcsstm24.mat     bcsstm38.mat      cond-mat-2005.mat  net4-1.mat   \n",
       "0.001       c-24.mat         c-39.mat              bbmat.mat  consph.mat   \n",
       "0.01    crystk01.mat     msc10848.mat  TSOPF_RS_b2383_c1.mat               \n",
       "0.1       heart1.mat  human_gene2.mat                                      \n",
       "\n",
       "              160000  \n",
       "0.0001    para-4.mat  \n",
       "0.001   pkustk14.mat  \n",
       "0.01                  \n",
       "0.1                   "
      ]
     },
     "execution_count": 70,
     "metadata": {},
     "output_type": "execute_result"
    }
   ],
   "source": [
    "# Construct the table of reference to map N/density to the file names.\n",
    "table = pd.DataFrame(index=['0.0001', '0.001', '0.01', '0.1'], columns=['4000', '8000', '40000', '80000', '160000'])\n",
    "results = pd.DataFrame(index=['0.0001', '0.001', '0.01', '0.1'], columns=['4000', '8000', '40000', '80000', '160000'])\n",
    "table['4000']['0.0001'] = 'bcsstm24.mat'\n",
    "table['4000']['0.001'] = 'c-24.mat'\n",
    "table['4000']['0.01'] = 'crystk01.mat'\n",
    "table['4000']['0.1'] = 'heart1.mat'\n",
    "table['8000']['0.0001'] = 'bcsstm38.mat'\n",
    "table['8000']['0.001'] = 'c-39.mat'\n",
    "table['8000']['0.01'] = 'msc10848.mat'\n",
    "table['8000']['0.1'] = 'human_gene2.mat' # previously 'TSC_OPF_1047.mat' \n",
    "table['40000']['0.0001'] = 'cond-mat-2005.mat'\n",
    "table['40000']['0.001'] = 'bbmat.mat'\n",
    "table['40000']['0.01'] = 'TSOPF_RS_b2383_c1.mat'\n",
    "table['40000']['0.1'] = '' # Does not exist.\n",
    "table['80000']['0.0001'] = 'net4-1.mat'\n",
    "table['80000']['0.001'] = 'consph.mat'\n",
    "table['80000']['0.01'] = '' # Does not exist\n",
    "table['80000']['0.1'] = '' # Does not exist\n",
    "table['160000']['0.0001'] = 'para-4.mat'\n",
    "table['160000']['0.001'] = 'pkustk14.mat'\n",
    "table['160000']['0.01'] = '' # Does not exist\n",
    "table['160000']['0.1'] = '' # Does not exist\n",
    "table"
   ]
  },
  {
   "cell_type": "code",
   "execution_count": 82,
   "metadata": {},
   "outputs": [],
   "source": [
    "# Handle all the edge cases for all files\n",
    "def load_matrix(matrix_name):\n",
    "    data = sio.loadmat(matrix_name)\n",
    "    P = data['Problem']\n",
    "    zeros = {'net4-1.mat'}\n",
    "    twos = {'consph.mat','human_gene2.mat','TSOPF_RS_b2383_c1.mat','cond-mat-2005.mat', 'para-4.mat'}\n",
    "    fours = {'c-24.mat','c-39.mat'}\n",
    "    if matrix_name in zeros:\n",
    "        x = P[0][0][0]\n",
    "    elif matrix_name in twos:\n",
    "        x = P[0][0][2]\n",
    "    elif matrix_name in fours:\n",
    "        x = P[0][0][4]\n",
    "    else:\n",
    "        x = P[0][0][1]\n",
    "    return x\n",
    "\n",
    "def multiply_and_time(matrix_name, N, p, results):\n",
    "    if not matrix_name:\n",
    "        return\n",
    "    a = load_matrix(matrix_name)\n",
    "    b = a[:]\n",
    "    ap, bp = sp.csr_matrix(a), sp.csr_matrix(b)\n",
    "    start = time.time()\n",
    "    sp.Sparse.csrgemm_ez(s, ap, bp)\n",
    "    end = time.time()\n",
    "    print(\"\\tTime for {0} = {1}\".format(matrix_name, end-start))\n",
    "    results[N][p] = end-start\n",
    "    return\n",
    "\n",
    "\n",
    "def multiply_all(table, results, reverse=False, skip_computed=False):\n",
    "    N_list = ['4000', '8000', '40000', '80000', '160000']\n",
    "    p_list = ['0.0001', '0.001', '0.01', '0.1']\n",
    "    if reverse:\n",
    "        N_list = list(reversed(N_list))\n",
    "        p_list = list(reversed(p_list))\n",
    "    for N in N_list:\n",
    "        for p in p_list:\n",
    "            print(\"For N={0}, p={1}\".format(N,p))\n",
    "            if not results.isna()[N][p] and skip_computed:\n",
    "                print(\"\\t Skipping, already computed.\")\n",
    "            else:\n",
    "                try:\n",
    "                    multiply_and_time(table[N][p], N, p, results)\n",
    "                except:\n",
    "                    print(\"\\tException caught: CUDA_ERROR_OUT_OF_MEMORY Error!\")\n",
    "            "
   ]
  },
  {
   "cell_type": "code",
   "execution_count": 83,
   "metadata": {},
   "outputs": [
    {
     "name": "stdout",
     "output_type": "stream",
     "text": [
      "For N=4000, p=0.0001\n",
      "\tTime for bcsstm24.mat = 0.001005411148071289\n",
      "For N=4000, p=0.001\n",
      "\tTime for c-24.mat = 0.03336930274963379\n",
      "For N=4000, p=0.01\n",
      "\tTime for crystk01.mat = 0.05204510688781738\n",
      "For N=4000, p=0.1\n",
      "\tTime for heart1.mat = 1.1410231590270996\n",
      "For N=8000, p=0.0001\n",
      "\tTime for bcsstm38.mat = 0.0016732215881347656\n",
      "For N=8000, p=0.001\n",
      "\tTime for c-39.mat = 0.09715676307678223\n",
      "For N=8000, p=0.01\n",
      "\tTime for msc10848.mat = 0.4091334342956543\n",
      "For N=8000, p=0.1\n",
      "\tTime for human_gene2.mat = 71.34116721153259\n",
      "For N=40000, p=0.0001\n",
      "\tTime for cond-mat-2005.mat = 0.29789137840270996\n",
      "For N=40000, p=0.001\n",
      "\tTime for bbmat.mat = 0.17027735710144043\n",
      "For N=40000, p=0.01\n",
      "\tTime for TSOPF_RS_b2383_c1.mat = 0.44849324226379395\n",
      "For N=40000, p=0.1\n",
      "For N=80000, p=0.0001\n",
      "\tException caught: CUDA_ERROR_OUT_OF_MEMORY Error!\n",
      "For N=80000, p=0.001\n",
      "\tTime for consph.mat = 0.8241667747497559\n",
      "For N=80000, p=0.01\n",
      "For N=80000, p=0.1\n",
      "For N=160000, p=0.0001\n",
      "\tTime for para-4.mat = 2.4254722595214844\n",
      "For N=160000, p=0.001\n",
      "\tTime for pkustk14.mat = 3.4438960552215576\n",
      "For N=160000, p=0.01\n",
      "For N=160000, p=0.1\n",
      "Done!\n"
     ]
    }
   ],
   "source": [
    "multiply_all(table, results, reverse=False, skip_computed=True)\n",
    "print(\"Done!\")"
   ]
  },
  {
   "cell_type": "code",
   "execution_count": 84,
   "metadata": {},
   "outputs": [
    {
     "data": {
      "text/html": [
       "<div>\n",
       "<style scoped>\n",
       "    .dataframe tbody tr th:only-of-type {\n",
       "        vertical-align: middle;\n",
       "    }\n",
       "\n",
       "    .dataframe tbody tr th {\n",
       "        vertical-align: top;\n",
       "    }\n",
       "\n",
       "    .dataframe thead th {\n",
       "        text-align: right;\n",
       "    }\n",
       "</style>\n",
       "<table border=\"1\" class=\"dataframe\">\n",
       "  <thead>\n",
       "    <tr style=\"text-align: right;\">\n",
       "      <th></th>\n",
       "      <th>4000</th>\n",
       "      <th>8000</th>\n",
       "      <th>40000</th>\n",
       "      <th>80000</th>\n",
       "      <th>160000</th>\n",
       "    </tr>\n",
       "  </thead>\n",
       "  <tbody>\n",
       "    <tr>\n",
       "      <th>0.0001</th>\n",
       "      <td>0.00100541</td>\n",
       "      <td>0.00167322</td>\n",
       "      <td>0.297891</td>\n",
       "      <td>NaN</td>\n",
       "      <td>2.42547</td>\n",
       "    </tr>\n",
       "    <tr>\n",
       "      <th>0.001</th>\n",
       "      <td>0.0333693</td>\n",
       "      <td>0.0971568</td>\n",
       "      <td>0.170277</td>\n",
       "      <td>0.824167</td>\n",
       "      <td>3.4439</td>\n",
       "    </tr>\n",
       "    <tr>\n",
       "      <th>0.01</th>\n",
       "      <td>0.0520451</td>\n",
       "      <td>0.409133</td>\n",
       "      <td>0.448493</td>\n",
       "      <td>NaN</td>\n",
       "      <td>NaN</td>\n",
       "    </tr>\n",
       "    <tr>\n",
       "      <th>0.1</th>\n",
       "      <td>1.14102</td>\n",
       "      <td>71.3412</td>\n",
       "      <td>NaN</td>\n",
       "      <td>NaN</td>\n",
       "      <td>NaN</td>\n",
       "    </tr>\n",
       "  </tbody>\n",
       "</table>\n",
       "</div>"
      ],
      "text/plain": [
       "              4000        8000     40000     80000   160000\n",
       "0.0001  0.00100541  0.00167322  0.297891       NaN  2.42547\n",
       "0.001    0.0333693   0.0971568  0.170277  0.824167   3.4439\n",
       "0.01     0.0520451    0.409133  0.448493       NaN      NaN\n",
       "0.1        1.14102     71.3412       NaN       NaN      NaN"
      ]
     },
     "execution_count": 84,
     "metadata": {},
     "output_type": "execute_result"
    }
   ],
   "source": [
    "results"
   ]
  },
  {
   "cell_type": "code",
   "execution_count": 79,
   "metadata": {},
   "outputs": [
    {
     "data": {
      "text/plain": [
       "True"
      ]
     },
     "execution_count": 79,
     "metadata": {},
     "output_type": "execute_result"
    }
   ],
   "source": [
    "results.isna()['80000']['0.0001']"
   ]
  },
  {
   "cell_type": "code",
   "execution_count": null,
   "metadata": {},
   "outputs": [],
   "source": []
  },
  {
   "cell_type": "markdown",
   "metadata": {},
   "source": [
    "### Ignore everything below. Used for testing & playgrounding."
   ]
  },
  {
   "cell_type": "code",
   "execution_count": 27,
   "metadata": {},
   "outputs": [
    {
     "name": "stdout",
     "output_type": "stream",
     "text": [
      "Time for TSOPF_RS_b2383_c1.mat\n",
      "0.5271131992340088\n"
     ]
    }
   ],
   "source": [
    "matrix1 = 'TSOPF_RS_b2383_c1.mat'\n",
    "matrix1_data = sio.loadmat(matrix1)\n",
    "P = matrix1_data['Problem']\n",
    "a = P[0][0][2]\n",
    "b = a[:]\n",
    "c = a[:]\n",
    "s = sp.Sparse()\n",
    "a_desc = s.matdescr(indexbase=0,matrixtype='G')\n",
    "b_desc = s.matdescr(indexbase=0,matrixtype='G')\n",
    "c_desc = s.matdescr(indexbase=0,matrixtype='G')\n",
    "\n",
    "N = a.shape[0]\n",
    "ap, bp, cp = sp.csr_matrix(a), sp.csr_matrix(b), sp.csr_matrix(c)\n",
    "transA, transB, transC = 'N', 'N', 'N'\n",
    "#sp.Sparse.csrmm2(s, transA, transB, N, N, N, len(a.data), 1.0, a_desc, ap.data, ap.indptr, ap.indices, b, N, 1.0, c, N)\n",
    "#sp.Sparse.csrgemm(s, transA, transB, N, N, N, a_desc, len(a.data), ap.data, ap.indptr, ap.indices, b_desc, len(b.data), bp.data, bp.indptr, bp.indices, c_desc, cp.data, cp.indptr, cp.indices)\n",
    "\n",
    "start = time.time()\n",
    "sp.Sparse.csrgemm_ez(s, ap, bp)\n",
    "end = time.time()\n",
    "print(\"Time for {0}\".format(matrix1))\n",
    "print(end-start)"
   ]
  },
  {
   "cell_type": "code",
   "execution_count": 11,
   "metadata": {},
   "outputs": [
    {
     "data": {
      "text/plain": [
       "(8032, 8032)"
      ]
     },
     "execution_count": 11,
     "metadata": {},
     "output_type": "execute_result"
    }
   ],
   "source": [
    "pkustk14.mat"
   ]
  },
  {
   "cell_type": "code",
   "execution_count": 28,
   "metadata": {},
   "outputs": [
    {
     "name": "stdout",
     "output_type": "stream",
     "text": [
      "Time for pkustk14.mat\n",
      "3.433053970336914\n"
     ]
    }
   ],
   "source": [
    "matrix1 = 'pkustk14.mat'\n",
    "matrix1_data = sio.loadmat(matrix1)\n",
    "P = matrix1_data['Problem']\n",
    "a = P[0][0][1]\n",
    "b = a[:]\n",
    "c = a[:]\n",
    "s = sp.Sparse()\n",
    "a_desc = s.matdescr(indexbase=0,matrixtype='G')\n",
    "b_desc = s.matdescr(indexbase=0,matrixtype='G')\n",
    "c_desc = s.matdescr(indexbase=0,matrixtype='G')\n",
    "\n",
    "N = a.shape[0]\n",
    "ap, bp, cp = sp.csr_matrix(a), sp.csr_matrix(b), sp.csr_matrix(c)\n",
    "transA, transB, transC = 'N', 'N', 'N'\n",
    "sp.Sparse.csrgemm(s, transA, transB, N, N, N, a_desc, len(a.data), ap.data, ap.indptr, ap.indices, b_desc, len(b.data), bp.data, bp.indptr, bp.indices, c_desc, cp.data, cp.indptr, cp.indices)\n",
    "start = time.time()\n",
    "sp.Sparse.csrgemm_ez(s, ap, bp)\n",
    "end = time.time()\n",
    "print(\"Time for {0}\".format(matrix1))\n",
    "print(end-start)"
   ]
  },
  {
   "cell_type": "code",
   "execution_count": 32,
   "metadata": {},
   "outputs": [
    {
     "ename": "AttributeError",
     "evalue": "'CudaCSRMatrix' object has no attribute 'nonzeros'",
     "output_type": "error",
     "traceback": [
      "\u001b[0;31m---------------------------------------------------------------------------\u001b[0m",
      "\u001b[0;31mAttributeError\u001b[0m                            Traceback (most recent call last)",
      "\u001b[0;32m<ipython-input-32-efef5c2457f5>\u001b[0m in \u001b[0;36m<module>\u001b[0;34m()\u001b[0m\n\u001b[0;32m----> 1\u001b[0;31m \u001b[0map\u001b[0m\u001b[0;34m.\u001b[0m\u001b[0mnonzeros\u001b[0m\u001b[0;34m(\u001b[0m\u001b[0;34m)\u001b[0m\u001b[0;34m\u001b[0m\u001b[0m\n\u001b[0m",
      "\u001b[0;31mAttributeError\u001b[0m: 'CudaCSRMatrix' object has no attribute 'nonzeros'"
     ]
    }
   ],
   "source": [
    "ap.nonzeros()"
   ]
  },
  {
   "cell_type": "code",
   "execution_count": null,
   "metadata": {},
   "outputs": [],
   "source": []
  }
 ],
 "metadata": {
  "kernelspec": {
   "display_name": "Environment (conda_anaconda3)",
   "language": "python",
   "name": "conda_anaconda3"
  },
  "language_info": {
   "codemirror_mode": {
    "name": "ipython",
    "version": 3
   },
   "file_extension": ".py",
   "mimetype": "text/x-python",
   "name": "python",
   "nbconvert_exporter": "python",
   "pygments_lexer": "ipython3",
   "version": "3.6.4"
  }
 },
 "nbformat": 4,
 "nbformat_minor": 2
}
