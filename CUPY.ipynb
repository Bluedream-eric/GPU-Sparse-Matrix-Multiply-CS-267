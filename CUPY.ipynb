{
 "cells": [
  {
   "cell_type": "code",
   "execution_count": 1,
   "metadata": {},
   "outputs": [],
   "source": [
    "import cupy as cp \n",
    "import numpy as np\n",
    "from scipy.sparse import coo_matrix"
   ]
  },
  {
   "cell_type": "code",
   "execution_count": 3,
   "metadata": {},
   "outputs": [],
   "source": [
    "def convert2d_to_gpu_sparse(m):\n",
    "    temp = coo_matrix(m)\n",
    "    temp_gpu = cp.sparse.coo_matrix(temp)\n",
    "    return temp_gpu\n",
    "x_gpu = convert2d_to_gpu_sparse([[1.0,1.0,2.0], [0,0,1.0], [1.0,0,0]])\n",
    "y_gpu = convert2d_to_gpu_sparse([[1.0,1.0,2.0], [0,2.0,1.0], [1.0,0,0]])\n",
    "\n",
    "\n",
    "x_gpu = cp.array([[1.0,1.0,2.0], [0,0,1.0], [1.0,0,0]])\n",
    "y_gpu = cp.array([[1.0,1.0,2.0], [0,2.0,1.0], [1.0,0,0]])"
   ]
  },
  {
   "cell_type": "code",
   "execution_count": 4,
   "metadata": {},
   "outputs": [
    {
     "data": {
      "text/plain": [
       "array([[3., 3., 3.],\n",
       "       [1., 0., 0.],\n",
       "       [1., 1., 2.]])"
      ]
     },
     "execution_count": 4,
     "metadata": {},
     "output_type": "execute_result"
    }
   ],
   "source": [
    "x_gpu.dot(y_gpu)\n"
   ]
  },
  {
   "cell_type": "code",
   "execution_count": null,
   "metadata": {},
   "outputs": [],
   "source": []
  }
 ],
 "metadata": {
  "kernelspec": {
   "display_name": "Python 3",
   "language": "python",
   "name": "python3"
  },
  "language_info": {
   "codemirror_mode": {
    "name": "ipython",
    "version": 3
   },
   "file_extension": ".py",
   "mimetype": "text/x-python",
   "name": "python",
   "nbconvert_exporter": "python",
   "pygments_lexer": "ipython3",
   "version": "3.6.4"
  }
 },
 "nbformat": 4,
 "nbformat_minor": 2
}
